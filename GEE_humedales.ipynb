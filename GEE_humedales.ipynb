{
  "nbformat": 4,
  "nbformat_minor": 0,
  "metadata": {
    "colab": {
      "provenance": [],
      "authorship_tag": "ABX9TyOEABys46boTFJkjmn1GY/4",
      "include_colab_link": true
    },
    "kernelspec": {
      "name": "python3",
      "display_name": "Python 3"
    },
    "language_info": {
      "name": "python"
    }
  },
  "cells": [
    {
      "cell_type": "markdown",
      "metadata": {
        "id": "view-in-github",
        "colab_type": "text"
      },
      "source": [
        "<a href=\"https://colab.research.google.com/github/alba-linares/rTFM/blob/main/GEE_humedales.ipynb\" target=\"_parent\"><img src=\"https://colab.research.google.com/assets/colab-badge.svg\" alt=\"Open In Colab\"/></a>"
      ]
    },
    {
      "cell_type": "markdown",
      "source": [
        "# **Cálculo de índices sobre los humedales de estudio**"
      ],
      "metadata": {
        "id": "vd7-OZH50p45"
      }
    },
    {
      "cell_type": "markdown",
      "source": [
        "# **PREPARACIÓN**"
      ],
      "metadata": {
        "id": "F8Ln5mHn_V79"
      }
    },
    {
      "cell_type": "markdown",
      "source": [
        "## Cargar paquetes"
      ],
      "metadata": {
        "id": "fitk4H40eUFL"
      }
    },
    {
      "cell_type": "code",
      "execution_count": null,
      "metadata": {
        "id": "AuWe80QIxTF-",
        "colab": {
          "base_uri": "https://localhost:8080/"
        },
        "outputId": "1d0a0668-d735-450c-9b84-8788fb44679e"
      },
      "outputs": [
        {
          "output_type": "stream",
          "name": "stdout",
          "text": [
            "Collecting eefolium\n",
            "  Downloading eefolium-0.2.0-py2.py3-none-any.whl.metadata (7.8 kB)\n",
            "Requirement already satisfied: earthengine-api in /usr/local/lib/python3.10/dist-packages (from eefolium) (1.0.0)\n",
            "Requirement already satisfied: folium>=0.11.0 in /usr/local/lib/python3.10/dist-packages (from eefolium) (0.17.0)\n",
            "Requirement already satisfied: branca>=0.6.0 in /usr/local/lib/python3.10/dist-packages (from folium>=0.11.0->eefolium) (0.8.0)\n",
            "Requirement already satisfied: jinja2>=2.9 in /usr/local/lib/python3.10/dist-packages (from folium>=0.11.0->eefolium) (3.1.4)\n",
            "Requirement already satisfied: numpy in /usr/local/lib/python3.10/dist-packages (from folium>=0.11.0->eefolium) (1.26.4)\n",
            "Requirement already satisfied: requests in /usr/local/lib/python3.10/dist-packages (from folium>=0.11.0->eefolium) (2.32.3)\n",
            "Requirement already satisfied: xyzservices in /usr/local/lib/python3.10/dist-packages (from folium>=0.11.0->eefolium) (2024.9.0)\n",
            "Requirement already satisfied: google-cloud-storage in /usr/local/lib/python3.10/dist-packages (from earthengine-api->eefolium) (2.8.0)\n",
            "Requirement already satisfied: google-api-python-client>=1.12.1 in /usr/local/lib/python3.10/dist-packages (from earthengine-api->eefolium) (2.137.0)\n",
            "Requirement already satisfied: google-auth>=1.4.1 in /usr/local/lib/python3.10/dist-packages (from earthengine-api->eefolium) (2.27.0)\n",
            "Requirement already satisfied: google-auth-httplib2>=0.0.3 in /usr/local/lib/python3.10/dist-packages (from earthengine-api->eefolium) (0.2.0)\n",
            "Requirement already satisfied: httplib2<1dev,>=0.9.2 in /usr/local/lib/python3.10/dist-packages (from earthengine-api->eefolium) (0.22.0)\n",
            "Requirement already satisfied: google-api-core!=2.0.*,!=2.1.*,!=2.2.*,!=2.3.0,<3.0.0.dev0,>=1.31.5 in /usr/local/lib/python3.10/dist-packages (from google-api-python-client>=1.12.1->earthengine-api->eefolium) (2.19.2)\n",
            "Requirement already satisfied: uritemplate<5,>=3.0.1 in /usr/local/lib/python3.10/dist-packages (from google-api-python-client>=1.12.1->earthengine-api->eefolium) (4.1.1)\n",
            "Requirement already satisfied: cachetools<6.0,>=2.0.0 in /usr/local/lib/python3.10/dist-packages (from google-auth>=1.4.1->earthengine-api->eefolium) (5.5.0)\n",
            "Requirement already satisfied: pyasn1-modules>=0.2.1 in /usr/local/lib/python3.10/dist-packages (from google-auth>=1.4.1->earthengine-api->eefolium) (0.4.1)\n",
            "Requirement already satisfied: rsa<5,>=3.1.4 in /usr/local/lib/python3.10/dist-packages (from google-auth>=1.4.1->earthengine-api->eefolium) (4.9)\n",
            "Requirement already satisfied: pyparsing!=3.0.0,!=3.0.1,!=3.0.2,!=3.0.3,<4,>=2.4.2 in /usr/local/lib/python3.10/dist-packages (from httplib2<1dev,>=0.9.2->earthengine-api->eefolium) (3.1.4)\n",
            "Requirement already satisfied: MarkupSafe>=2.0 in /usr/local/lib/python3.10/dist-packages (from jinja2>=2.9->folium>=0.11.0->eefolium) (3.0.1)\n",
            "Requirement already satisfied: google-cloud-core<3.0dev,>=2.3.0 in /usr/local/lib/python3.10/dist-packages (from google-cloud-storage->earthengine-api->eefolium) (2.4.1)\n",
            "Requirement already satisfied: google-resumable-media>=2.3.2 in /usr/local/lib/python3.10/dist-packages (from google-cloud-storage->earthengine-api->eefolium) (2.7.2)\n",
            "Requirement already satisfied: charset-normalizer<4,>=2 in /usr/local/lib/python3.10/dist-packages (from requests->folium>=0.11.0->eefolium) (3.4.0)\n",
            "Requirement already satisfied: idna<4,>=2.5 in /usr/local/lib/python3.10/dist-packages (from requests->folium>=0.11.0->eefolium) (3.10)\n",
            "Requirement already satisfied: urllib3<3,>=1.21.1 in /usr/local/lib/python3.10/dist-packages (from requests->folium>=0.11.0->eefolium) (2.2.3)\n",
            "Requirement already satisfied: certifi>=2017.4.17 in /usr/local/lib/python3.10/dist-packages (from requests->folium>=0.11.0->eefolium) (2024.8.30)\n",
            "Requirement already satisfied: googleapis-common-protos<2.0.dev0,>=1.56.2 in /usr/local/lib/python3.10/dist-packages (from google-api-core!=2.0.*,!=2.1.*,!=2.2.*,!=2.3.0,<3.0.0.dev0,>=1.31.5->google-api-python-client>=1.12.1->earthengine-api->eefolium) (1.65.0)\n",
            "Requirement already satisfied: protobuf!=3.20.0,!=3.20.1,!=4.21.0,!=4.21.1,!=4.21.2,!=4.21.3,!=4.21.4,!=4.21.5,<6.0.0.dev0,>=3.19.5 in /usr/local/lib/python3.10/dist-packages (from google-api-core!=2.0.*,!=2.1.*,!=2.2.*,!=2.3.0,<3.0.0.dev0,>=1.31.5->google-api-python-client>=1.12.1->earthengine-api->eefolium) (3.20.3)\n",
            "Requirement already satisfied: proto-plus<2.0.0dev,>=1.22.3 in /usr/local/lib/python3.10/dist-packages (from google-api-core!=2.0.*,!=2.1.*,!=2.2.*,!=2.3.0,<3.0.0.dev0,>=1.31.5->google-api-python-client>=1.12.1->earthengine-api->eefolium) (1.24.0)\n",
            "Requirement already satisfied: google-crc32c<2.0dev,>=1.0 in /usr/local/lib/python3.10/dist-packages (from google-resumable-media>=2.3.2->google-cloud-storage->earthengine-api->eefolium) (1.6.0)\n",
            "Requirement already satisfied: pyasn1<0.7.0,>=0.4.6 in /usr/local/lib/python3.10/dist-packages (from pyasn1-modules>=0.2.1->google-auth>=1.4.1->earthengine-api->eefolium) (0.6.1)\n",
            "Downloading eefolium-0.2.0-py2.py3-none-any.whl (46 kB)\n",
            "\u001b[2K   \u001b[90m━━━━━━━━━━━━━━━━━━━━━━━━━━━━━━━━━━━━━━━━\u001b[0m \u001b[32m46.9/46.9 kB\u001b[0m \u001b[31m212.5 kB/s\u001b[0m eta \u001b[36m0:00:00\u001b[0m\n",
            "\u001b[?25hInstalling collected packages: eefolium\n",
            "Successfully installed eefolium-0.2.0\n"
          ]
        }
      ],
      "source": [
        "!pip install eefolium"
      ]
    },
    {
      "cell_type": "code",
      "execution_count": null,
      "metadata": {
        "id": "ISqkRRfAeQ8j"
      },
      "outputs": [],
      "source": [
        "import ee"
      ]
    },
    {
      "cell_type": "code",
      "source": [
        "import eefolium as geemap"
      ],
      "metadata": {
        "id": "xsowvCNnehi7"
      },
      "execution_count": null,
      "outputs": []
    },
    {
      "cell_type": "code",
      "source": [
        "ee.Authenticate()"
      ],
      "metadata": {
        "id": "Wg-_tWe3eiLy"
      },
      "execution_count": null,
      "outputs": []
    },
    {
      "cell_type": "code",
      "source": [
        "ee.Initialize(project='ee-albalinares20')"
      ],
      "metadata": {
        "id": "Cb88L8voekqX"
      },
      "execution_count": null,
      "outputs": []
    },
    {
      "cell_type": "markdown",
      "source": [
        "## Colección de capas"
      ],
      "metadata": {
        "id": "Tn3JhT9BFS-N"
      }
    },
    {
      "cell_type": "code",
      "source": [
        "zone01h = ee.FeatureCollection('projects/ee-albalinares20/assets/hum/albufera_honda')\n",
        "zone02h = ee.FeatureCollection('projects/ee-albalinares20/assets/hum/albufera_nueva')\n",
        "zone03h = ee.FeatureCollection('projects/ee-albalinares20/assets/hum/barranco_del_agua')\n",
        "zone04h = ee.FeatureCollection('projects/ee-albalinares20/assets/hum/canada_de_las_norias')\n",
        "zone05h = ee.FeatureCollection('projects/ee-albalinares20/assets/hum/cola_del_embalse_del_negratin')\n",
        "zone06h = ee.FeatureCollection('projects/ee-albalinares20/assets/hum/charcones_de_punta_entinas')\n",
        "zone07h = ee.FeatureCollection('projects/ee-albalinares20/assets/hum/humedales_de_baza')\n",
        "zone08h = ee.FeatureCollection('projects/ee-albalinares20/assets/hum/laguna_de_la_gravera')\n",
        "zone09h = ee.FeatureCollection('projects/ee-albalinares20/assets/hum/rambla_morales')\n",
        "zone10h = ee.FeatureCollection('projects/ee-albalinares20/assets/hum/ribera_de_la_algaida')\n",
        "zone11h = ee.FeatureCollection('projects/ee-albalinares20/assets/hum/rio_antas')\n",
        "zone12h = ee.FeatureCollection('projects/ee-albalinares20/assets/hum/salinas_de_cabo_de_gata')\n",
        "zone13h = ee.FeatureCollection('projects/ee-albalinares20/assets/hum/salar_de_los_canos')\n",
        "zone14h = ee.FeatureCollection('projects/ee-albalinares20/assets/hum/salinas_de_cerrillos')\n",
        "zone15h = ee.FeatureCollection('projects/ee-albalinares20/assets/hum/saladar_del_margen')\n",
        "\n",
        "zone01b = ee.FeatureCollection('projects/ee-albalinares20/assets/buffer/buf_albufera_honda')\n",
        "zone02b = ee.FeatureCollection('projects/ee-albalinares20/assets/buffer/buf_albufera_nueva')\n",
        "zone03b = ee.FeatureCollection('projects/ee-albalinares20/assets/buffer/buf_barranco_del_agua')\n",
        "zone04b = ee.FeatureCollection('projects/ee-albalinares20/assets/buffer/buf_canada_de_las_norias')\n",
        "zone05b = ee.FeatureCollection('projects/ee-albalinares20/assets/buffer/buf_charcones_de_punta_entinas')\n",
        "zone06b = ee.FeatureCollection('projects/ee-albalinares20/assets/buffer/buf_cola_del_embalse_del_negratin')\n",
        "zone07b = ee.FeatureCollection('projects/ee-albalinares20/assets/buffer/buf_humedales_de_baza')\n",
        "zone08b = ee.FeatureCollection('projects/ee-albalinares20/assets/buffer/buf_laguna_de_la_gravera')\n",
        "zone09b = ee.FeatureCollection('projects/ee-albalinares20/assets/buffer/buf_rambla_morales')\n",
        "zone10b = ee.FeatureCollection('projects/ee-albalinares20/assets/buffer/buf_ribera_de_la_algaida')\n",
        "zone11b = ee.FeatureCollection('projects/ee-albalinares20/assets/buffer/buf_rio_antas')\n",
        "zone12b = ee.FeatureCollection('projects/ee-albalinares20/assets/buffer/buf_saladar_del_margen')\n",
        "zone13b = ee.FeatureCollection('projects/ee-albalinares20/assets/buffer/buf_salar_de_los_canos')\n",
        "zone14b = ee.FeatureCollection('projects/ee-albalinares20/assets/buffer/buf_salinas_de_cabo_de_gata')\n",
        "zone15b = ee.FeatureCollection('projects/ee-albalinares20/assets/buffer/buf_salinas_de_cerrillos')\n"
      ],
      "metadata": {
        "id": "ifpTGUfSeobA"
      },
      "execution_count": null,
      "outputs": []
    },
    {
      "cell_type": "markdown",
      "source": [
        "Recuerda que hay que cambiar el nombre de la zona **aquí**:"
      ],
      "metadata": {
        "id": "3eAMTpBipEOj"
      }
    },
    {
      "cell_type": "code",
      "source": [
        "#Aquí se va cambiando la zona para el análisis\n",
        "zone = zone15b\n",
        "zonename = 'zone15b'"
      ],
      "metadata": {
        "id": "NqiWnc3sPfl-"
      },
      "execution_count": null,
      "outputs": []
    },
    {
      "cell_type": "markdown",
      "source": [
        "## Definir función para calcular el índice"
      ],
      "metadata": {
        "id": "dkt2obLEF322"
      }
    },
    {
      "cell_type": "markdown",
      "source": [
        "Recuerda que hay que cambiar el índice **aquí**:\n"
      ],
      "metadata": {
        "id": "7HdlTZyOow-4"
      }
    },
    {
      "cell_type": "code",
      "source": [
        "index = 'ndvi' # ¡Recuerda ponerlo en minúsculas para seguir el mismo formato siempre!\n",
        "\n",
        "def get_index(img):\n",
        "  #return img.addBands(img.normalizedDifference(['SR_B2','SR_B4']).rename(index)) #NDWI: (G - N) / (G + N) = (SR_B2 - SR_B4) / (SR_B2 + SR_B4)\n",
        "  return img.addBands(img.normalizedDifference(['SR_B4','SR_B3']).rename(index)) #NDVI: (N - R) / (N + R) = (SR_B4 - SR_B3) / (SR_B4 + SR_B3)\n",
        "  #return img.addBands(img.normalizedDifference(['SR_B4','SR_B5']).rename(index)) #LSWI: (N - S1) / (N + S1) = (SR_B4 - SR_B5) / (SR_B4 + SR_B5)\n"
      ],
      "metadata": {
        "id": "1xCjoQl6oLEJ"
      },
      "execution_count": null,
      "outputs": []
    },
    {
      "cell_type": "markdown",
      "source": [
        "# **CREACIÓN DE CAPAS Y .CSV**"
      ],
      "metadata": {
        "id": "s2KLseaKnf2T"
      }
    },
    {
      "cell_type": "markdown",
      "source": [
        "## Mapas"
      ],
      "metadata": {
        "id": "0ioM60rr4STx"
      }
    },
    {
      "cell_type": "code",
      "source": [
        "#Carga de la colección de imágenes Landsat 7 con reflectancia superficial filtrados por fecha y zona\n",
        "l7collection = (\n",
        "    ee.ImageCollection('LANDSAT/LE07/C02/T1_L2') #SR = surface reflectance de Landsat 7\n",
        "    .filterBounds(zone) #extensión, lo que encuadra a la capa\n",
        "    .filterDate('1999-01-01','2021-12-31') #periodo en el que ha estado Landsat 7 recopilando imágenes\n",
        ")\n",
        "\n",
        "#CÁLCULO DEL ÍNDICE NDVI (Land Surface Water Index) PARA CADA IMAGEN EN LA COLECCIÓN, crea un mosaico de calidad basado en el NDVI y lo recorta según la zona definida. Posteriormente, calcula el promedio del NDVI para cada año en el rango de años especificado, almacenando las bandas resultantes en una lista llamada bands.\n",
        "\n",
        "#           l7index = l7collection.map(get_NDVI) #.map es un loop. Para cada objeto de la lista, le aplica iterativamente la función get_NDVI\n",
        "#clip es lo que lo encuadra dentro de la zona del humedal\n",
        "#En base a la banda que hemos nombrado NDVI\n",
        "#.Reducer.mean te escoge el valor medio en base a NDVI\n",
        "#           composite = l7index.select(index).reduce(ee.Reducer.median()).rename(index).clip(zone)\n",
        "#           band = composite.select('NDVI')\n",
        "\n",
        "#PARA CALCULAR EL ÍNDICE EN VARIOS AÑOS:\n",
        "bands = []\n",
        "\n",
        "years = range(1999,2022) #Porque empieza a contar en 1999 y termina en 2021\n",
        "for year in years:\n",
        "  str_year=str(year)\n",
        "  print(str_year)\n",
        "  l7collection = (\n",
        "    ee.ImageCollection('LANDSAT/LE07/C02/T1_L2')\n",
        "    .filterBounds(zone)\n",
        "    .filterDate(str_year + '-01-01',str_year + '-12-31')\n",
        ")\n",
        "\n",
        "  l7index = l7collection.map(get_NDVI)\n",
        "  composite = l7index.select(index).reduce(ee.Reducer.median()).rename(index).clip(zone)\n",
        "\n",
        "#SE ALMACENAN LAS BANDAS DE LAS IMÁGENES CON EL CÁLCULO DEL NDVI EN bands\n",
        "  band = composite.select('NDVI')\n",
        "  bands.append(band) #band tiene 23 elementos, uno para cada año"
      ],
      "metadata": {
        "id": "4AQsnhl-xfya",
        "colab": {
          "base_uri": "https://localhost:8080/"
        },
        "outputId": "135f779b-a9b6-455d-92b3-c4f9318a7570"
      },
      "execution_count": null,
      "outputs": [
        {
          "output_type": "stream",
          "name": "stdout",
          "text": [
            "1999\n",
            "2000\n",
            "2001\n",
            "2002\n",
            "2003\n",
            "2004\n",
            "2005\n",
            "2006\n",
            "2007\n",
            "2008\n",
            "2009\n",
            "2010\n",
            "2011\n",
            "2012\n",
            "2013\n",
            "2014\n",
            "2015\n",
            "2016\n",
            "2017\n",
            "2018\n",
            "2019\n",
            "2020\n",
            "2021\n"
          ]
        }
      ]
    },
    {
      "cell_type": "code",
      "source": [
        "vmin = band.reduceRegion(ee.Reducer.min(), zone).get('NDVI').getInfo()\n",
        "print(vmin)"
      ],
      "metadata": {
        "id": "GtfiWs7R7Q7X",
        "colab": {
          "base_uri": "https://localhost:8080/"
        },
        "outputId": "55aef28c-d6c7-4115-b028-ed6b5d9ddcb1"
      },
      "execution_count": null,
      "outputs": [
        {
          "output_type": "stream",
          "name": "stdout",
          "text": [
            "None\n"
          ]
        }
      ]
    },
    {
      "cell_type": "code",
      "source": [
        "vmax = band.reduceRegion(ee.Reducer.max(), zone).get('NDVI').getInfo()\n",
        "print(vmax)"
      ],
      "metadata": {
        "id": "QVyi6RDO64bg",
        "colab": {
          "base_uri": "https://localhost:8080/"
        },
        "outputId": "a9e75f81-ebca-4a95-cd2a-ba4919487c35"
      },
      "execution_count": null,
      "outputs": [
        {
          "output_type": "stream",
          "name": "stdout",
          "text": [
            "None\n"
          ]
        }
      ]
    },
    {
      "cell_type": "code",
      "source": [
        "#HACEMOS LOS MAPAS DE NDVI DE LA ZONA DEL BUFFER DEL HUMEDAL CON EL DESPLEGABLE POR AÑO\n",
        "m = geemap.Map() # Inicializamos un mapa vacío\n",
        "m.setOptions('SATELLITE')\n",
        "m.centerObject(zone, zoom=15)\n",
        "vis_params = {'min': vmin, 'max': vmax, 'palette':['#a6611a','#dfc27d','#f5f5f5','#80cdc1','#018571']} #Paleta: marrón, blanco y azul turquesa, principalmente\n",
        "\n",
        "for posicion, banda in enumerate(bands):\n",
        "  m.addLayer(banda,vis_params,'NDVI_'+str(1999 + posicion))\n",
        "m.addLayerControl() # Para escoger qué mapas ver con un desplegable para los distintos años\n",
        "\n",
        "m"
      ],
      "metadata": {
        "id": "UFV9Tkj9ydHP",
        "colab": {
          "base_uri": "https://localhost:8080/",
          "height": 730
        },
        "outputId": "02059b70-d02a-4c56-d5ba-cd9a39487356"
      },
      "execution_count": null,
      "outputs": [
        {
          "output_type": "execute_result",
          "data": {
            "text/plain": [
              "<eefolium.eefolium.Map at 0x79865932e830>"
            ],
            "text/html": [
              "<div style=\"width:100%;\"><div style=\"position:relative;width:100%;height:0;padding-bottom:60%;\"><span style=\"color:#565656\">Make this Notebook Trusted to load map: File -> Trust Notebook</span><iframe srcdoc=\"&lt;!DOCTYPE html&gt;\n",
              "&lt;html&gt;\n",
              "&lt;head&gt;\n",
              "    \n",
              "    &lt;meta http-equiv=&quot;content-type&quot; content=&quot;text/html; charset=UTF-8&quot; /&gt;\n",
              "    \n",
              "        &lt;script&gt;\n",
              "            L_NO_TOUCH = false;\n",
              "            L_DISABLE_3D = false;\n",
              "        &lt;/script&gt;\n",
              "    \n",
              "    &lt;style&gt;html, body {width: 100%;height: 100%;margin: 0;padding: 0;}&lt;/style&gt;\n",
              "    &lt;style&gt;#map {position:absolute;top:0;bottom:0;right:0;left:0;}&lt;/style&gt;\n",
              "    &lt;script src=&quot;https://cdn.jsdelivr.net/npm/leaflet@1.9.3/dist/leaflet.js&quot;&gt;&lt;/script&gt;\n",
              "    &lt;script src=&quot;https://code.jquery.com/jquery-3.7.1.min.js&quot;&gt;&lt;/script&gt;\n",
              "    &lt;script src=&quot;https://cdn.jsdelivr.net/npm/bootstrap@5.2.2/dist/js/bootstrap.bundle.min.js&quot;&gt;&lt;/script&gt;\n",
              "    &lt;script src=&quot;https://cdnjs.cloudflare.com/ajax/libs/Leaflet.awesome-markers/2.0.2/leaflet.awesome-markers.js&quot;&gt;&lt;/script&gt;\n",
              "    &lt;link rel=&quot;stylesheet&quot; href=&quot;https://cdn.jsdelivr.net/npm/leaflet@1.9.3/dist/leaflet.css&quot;/&gt;\n",
              "    &lt;link rel=&quot;stylesheet&quot; href=&quot;https://cdn.jsdelivr.net/npm/bootstrap@5.2.2/dist/css/bootstrap.min.css&quot;/&gt;\n",
              "    &lt;link rel=&quot;stylesheet&quot; href=&quot;https://netdna.bootstrapcdn.com/bootstrap/3.0.0/css/bootstrap-glyphicons.css&quot;/&gt;\n",
              "    &lt;link rel=&quot;stylesheet&quot; href=&quot;https://cdn.jsdelivr.net/npm/@fortawesome/fontawesome-free@6.2.0/css/all.min.css&quot;/&gt;\n",
              "    &lt;link rel=&quot;stylesheet&quot; href=&quot;https://cdnjs.cloudflare.com/ajax/libs/Leaflet.awesome-markers/2.0.2/leaflet.awesome-markers.css&quot;/&gt;\n",
              "    &lt;link rel=&quot;stylesheet&quot; href=&quot;https://cdn.jsdelivr.net/gh/python-visualization/folium/folium/templates/leaflet.awesome.rotate.min.css&quot;/&gt;\n",
              "    \n",
              "            &lt;meta name=&quot;viewport&quot; content=&quot;width=device-width,\n",
              "                initial-scale=1.0, maximum-scale=1.0, user-scalable=no&quot; /&gt;\n",
              "            &lt;style&gt;\n",
              "                #map_c3d4c1fecd65f20ceb03b7d74f096516 {\n",
              "                    position: relative;\n",
              "                    width: 100.0%;\n",
              "                    height: 100.0%;\n",
              "                    left: 0.0%;\n",
              "                    top: 0.0%;\n",
              "                }\n",
              "                .leaflet-container { font-size: 1rem; }\n",
              "            &lt;/style&gt;\n",
              "        \n",
              "    &lt;script src=&quot;https://cdn.jsdelivr.net/npm/leaflet.fullscreen@3.0.0/Control.FullScreen.min.js&quot;&gt;&lt;/script&gt;\n",
              "    &lt;link rel=&quot;stylesheet&quot; href=&quot;https://cdn.jsdelivr.net/npm/leaflet.fullscreen@3.0.0/Control.FullScreen.css&quot;/&gt;\n",
              "&lt;/head&gt;\n",
              "&lt;body&gt;\n",
              "    \n",
              "    \n",
              "            &lt;div class=&quot;folium-map&quot; id=&quot;map_c3d4c1fecd65f20ceb03b7d74f096516&quot; &gt;&lt;/div&gt;\n",
              "        \n",
              "&lt;/body&gt;\n",
              "&lt;script&gt;\n",
              "    \n",
              "    \n",
              "            var map_c3d4c1fecd65f20ceb03b7d74f096516 = L.map(\n",
              "                &quot;map_c3d4c1fecd65f20ceb03b7d74f096516&quot;,\n",
              "                {\n",
              "                    center: [40.0, -100.0],\n",
              "                    crs: L.CRS.EPSG3857,\n",
              "                    zoom: 4,\n",
              "                    zoomControl: true,\n",
              "                    preferCanvas: false,\n",
              "                    useEe: true,\n",
              "                    eeInitialize: true,\n",
              "                    addGoogleMap: true,\n",
              "                    pluginLatlngpopup: true,\n",
              "                    pluginFullscreen: true,\n",
              "                    pluginDraw: false,\n",
              "                    DrawExport: true,\n",
              "                    pluginMinimap: false,\n",
              "                    pluginLayercontrol: false,\n",
              "                }\n",
              "            );\n",
              "\n",
              "            \n",
              "\n",
              "        \n",
              "    \n",
              "            var tile_layer_3b0cbbd7f1412077866df18fd9d9348d = L.tileLayer(\n",
              "                &quot;https://tile.openstreetmap.org/{z}/{x}/{y}.png&quot;,\n",
              "                {&quot;attribution&quot;: &quot;\\u0026copy; \\u003ca href=\\&quot;https://www.openstreetmap.org/copyright\\&quot;\\u003eOpenStreetMap\\u003c/a\\u003e contributors&quot;, &quot;detectRetina&quot;: false, &quot;maxNativeZoom&quot;: 19, &quot;maxZoom&quot;: 19, &quot;minZoom&quot;: 0, &quot;noWrap&quot;: false, &quot;opacity&quot;: 1, &quot;subdomains&quot;: &quot;abc&quot;, &quot;tms&quot;: false}\n",
              "            );\n",
              "        \n",
              "    \n",
              "            tile_layer_3b0cbbd7f1412077866df18fd9d9348d.addTo(map_c3d4c1fecd65f20ceb03b7d74f096516);\n",
              "        \n",
              "    \n",
              "            var tile_layer_c31a732357c53dc6a37ad59b964d589d = L.tileLayer(\n",
              "                &quot;https://mt1.google.com/vt/lyrs=m\\u0026x={x}\\u0026y={y}\\u0026z={z}&quot;,\n",
              "                {&quot;attribution&quot;: &quot;Google&quot;, &quot;detectRetina&quot;: false, &quot;maxZoom&quot;: 18, &quot;minZoom&quot;: 0, &quot;noWrap&quot;: false, &quot;opacity&quot;: 1, &quot;subdomains&quot;: &quot;abc&quot;, &quot;tms&quot;: false}\n",
              "            );\n",
              "        \n",
              "    \n",
              "            tile_layer_c31a732357c53dc6a37ad59b964d589d.addTo(map_c3d4c1fecd65f20ceb03b7d74f096516);\n",
              "        \n",
              "    \n",
              "                var lat_lng_popup_46bfcac8ec7c4476d9268b980c28abf1 = L.popup();\n",
              "                function latLngPop(e) {\n",
              "                    lat_lng_popup_46bfcac8ec7c4476d9268b980c28abf1\n",
              "                        .setLatLng(e.latlng)\n",
              "                        .setContent(&quot;Latitude: &quot; + e.latlng.lat.toFixed(4) +\n",
              "                                    &quot;&lt;br&gt;Longitude: &quot; + e.latlng.lng.toFixed(4))\n",
              "                        .openOn(map_c3d4c1fecd65f20ceb03b7d74f096516);\n",
              "                    }\n",
              "                map_c3d4c1fecd65f20ceb03b7d74f096516.on(&#x27;click&#x27;, latLngPop);\n",
              "            \n",
              "    \n",
              "            L.control.fullscreen(\n",
              "                {&quot;forceSeparateButton&quot;: false, &quot;position&quot;: &quot;topleft&quot;, &quot;title&quot;: &quot;Full Screen&quot;, &quot;titleCancel&quot;: &quot;Exit Full Screen&quot;}\n",
              "            ).addTo(map_c3d4c1fecd65f20ceb03b7d74f096516);\n",
              "        \n",
              "    \n",
              "            map_c3d4c1fecd65f20ceb03b7d74f096516.fitBounds(\n",
              "                [[40, -100], [40, -100]],\n",
              "                {&quot;maxZoom&quot;: 4}\n",
              "            );\n",
              "        \n",
              "    \n",
              "            var tile_layer_15f0f801fc2c34e5c5dd07b3d63b5adb = L.tileLayer(\n",
              "                &quot;https://mt1.google.com/vt/lyrs=s\\u0026x={x}\\u0026y={y}\\u0026z={z}&quot;,\n",
              "                {&quot;attribution&quot;: &quot;Google&quot;, &quot;detectRetina&quot;: false, &quot;maxZoom&quot;: 18, &quot;minZoom&quot;: 0, &quot;noWrap&quot;: false, &quot;opacity&quot;: 1, &quot;subdomains&quot;: &quot;abc&quot;, &quot;tms&quot;: false}\n",
              "            );\n",
              "        \n",
              "    \n",
              "            tile_layer_15f0f801fc2c34e5c5dd07b3d63b5adb.addTo(map_c3d4c1fecd65f20ceb03b7d74f096516);\n",
              "        \n",
              "    \n",
              "            map_c3d4c1fecd65f20ceb03b7d74f096516.fitBounds(\n",
              "                [[36.70771718839134, -2.672266848991161], [36.70771718839134, -2.672266848991161]],\n",
              "                {&quot;maxZoom&quot;: 15}\n",
              "            );\n",
              "        \n",
              "    \n",
              "            var tile_layer_792f20a3c80bb033d13204f6f5650b99 = L.tileLayer(\n",
              "                &quot;https://earthengine.googleapis.com/v1/projects/ee-albalinares20/maps/09dbd244ced171753523096742165782-9f42a65b40dd851d1fc9d7fd5a063b55/tiles/{z}/{x}/{y}&quot;,\n",
              "                {&quot;attribution&quot;: &quot;Google Earth Engine&quot;, &quot;detectRetina&quot;: false, &quot;maxZoom&quot;: 18, &quot;minZoom&quot;: 0, &quot;noWrap&quot;: false, &quot;opacity&quot;: 1.0, &quot;subdomains&quot;: &quot;abc&quot;, &quot;tms&quot;: false}\n",
              "            );\n",
              "        \n",
              "    \n",
              "            tile_layer_792f20a3c80bb033d13204f6f5650b99.addTo(map_c3d4c1fecd65f20ceb03b7d74f096516);\n",
              "        \n",
              "    \n",
              "            var tile_layer_8d9e9ad094673115aee93d97b978f775 = L.tileLayer(\n",
              "                &quot;https://earthengine.googleapis.com/v1/projects/ee-albalinares20/maps/51d8d3121d31869e0ff72e802a2392fd-2a73463665325b10c5fddd9c2fc53a2e/tiles/{z}/{x}/{y}&quot;,\n",
              "                {&quot;attribution&quot;: &quot;Google Earth Engine&quot;, &quot;detectRetina&quot;: false, &quot;maxZoom&quot;: 18, &quot;minZoom&quot;: 0, &quot;noWrap&quot;: false, &quot;opacity&quot;: 1.0, &quot;subdomains&quot;: &quot;abc&quot;, &quot;tms&quot;: false}\n",
              "            );\n",
              "        \n",
              "    \n",
              "            tile_layer_8d9e9ad094673115aee93d97b978f775.addTo(map_c3d4c1fecd65f20ceb03b7d74f096516);\n",
              "        \n",
              "    \n",
              "            var tile_layer_b9f8a114167b81a8673905cedb803445 = L.tileLayer(\n",
              "                &quot;https://earthengine.googleapis.com/v1/projects/ee-albalinares20/maps/6ade85582de37eca7d81b09a5a8f9323-67bdbbd112af1929842da557fe3e56b1/tiles/{z}/{x}/{y}&quot;,\n",
              "                {&quot;attribution&quot;: &quot;Google Earth Engine&quot;, &quot;detectRetina&quot;: false, &quot;maxZoom&quot;: 18, &quot;minZoom&quot;: 0, &quot;noWrap&quot;: false, &quot;opacity&quot;: 1.0, &quot;subdomains&quot;: &quot;abc&quot;, &quot;tms&quot;: false}\n",
              "            );\n",
              "        \n",
              "    \n",
              "            tile_layer_b9f8a114167b81a8673905cedb803445.addTo(map_c3d4c1fecd65f20ceb03b7d74f096516);\n",
              "        \n",
              "    \n",
              "            var tile_layer_cb42217fcc4aea796407f853acb2a0ba = L.tileLayer(\n",
              "                &quot;https://earthengine.googleapis.com/v1/projects/ee-albalinares20/maps/ae7b995a03acafd7be639b5a64ac4d80-0fc3724ce2877709269caa1db8721bba/tiles/{z}/{x}/{y}&quot;,\n",
              "                {&quot;attribution&quot;: &quot;Google Earth Engine&quot;, &quot;detectRetina&quot;: false, &quot;maxZoom&quot;: 18, &quot;minZoom&quot;: 0, &quot;noWrap&quot;: false, &quot;opacity&quot;: 1.0, &quot;subdomains&quot;: &quot;abc&quot;, &quot;tms&quot;: false}\n",
              "            );\n",
              "        \n",
              "    \n",
              "            tile_layer_cb42217fcc4aea796407f853acb2a0ba.addTo(map_c3d4c1fecd65f20ceb03b7d74f096516);\n",
              "        \n",
              "    \n",
              "            var tile_layer_cdf0d0501a350e9d2fd66585446e6ca3 = L.tileLayer(\n",
              "                &quot;https://earthengine.googleapis.com/v1/projects/ee-albalinares20/maps/3d39befe528eb65e36a604f446c9b3f3-d3454b157c89ad4f3434af3160c84851/tiles/{z}/{x}/{y}&quot;,\n",
              "                {&quot;attribution&quot;: &quot;Google Earth Engine&quot;, &quot;detectRetina&quot;: false, &quot;maxZoom&quot;: 18, &quot;minZoom&quot;: 0, &quot;noWrap&quot;: false, &quot;opacity&quot;: 1.0, &quot;subdomains&quot;: &quot;abc&quot;, &quot;tms&quot;: false}\n",
              "            );\n",
              "        \n",
              "    \n",
              "            tile_layer_cdf0d0501a350e9d2fd66585446e6ca3.addTo(map_c3d4c1fecd65f20ceb03b7d74f096516);\n",
              "        \n",
              "    \n",
              "            var tile_layer_29b9df7e59e09899f453ed7ddb28e815 = L.tileLayer(\n",
              "                &quot;https://earthengine.googleapis.com/v1/projects/ee-albalinares20/maps/2efa9c4e097a4ea49f27b949f4be6f8d-818f608330950ad1bc97212813781a5b/tiles/{z}/{x}/{y}&quot;,\n",
              "                {&quot;attribution&quot;: &quot;Google Earth Engine&quot;, &quot;detectRetina&quot;: false, &quot;maxZoom&quot;: 18, &quot;minZoom&quot;: 0, &quot;noWrap&quot;: false, &quot;opacity&quot;: 1.0, &quot;subdomains&quot;: &quot;abc&quot;, &quot;tms&quot;: false}\n",
              "            );\n",
              "        \n",
              "    \n",
              "            tile_layer_29b9df7e59e09899f453ed7ddb28e815.addTo(map_c3d4c1fecd65f20ceb03b7d74f096516);\n",
              "        \n",
              "    \n",
              "            var tile_layer_5da813201e1941c17926d1d364e1e90d = L.tileLayer(\n",
              "                &quot;https://earthengine.googleapis.com/v1/projects/ee-albalinares20/maps/7f05e15c5663cca195b7d67b96d286d0-df6b2670c07ace90cdd60a912d6e4546/tiles/{z}/{x}/{y}&quot;,\n",
              "                {&quot;attribution&quot;: &quot;Google Earth Engine&quot;, &quot;detectRetina&quot;: false, &quot;maxZoom&quot;: 18, &quot;minZoom&quot;: 0, &quot;noWrap&quot;: false, &quot;opacity&quot;: 1.0, &quot;subdomains&quot;: &quot;abc&quot;, &quot;tms&quot;: false}\n",
              "            );\n",
              "        \n",
              "    \n",
              "            tile_layer_5da813201e1941c17926d1d364e1e90d.addTo(map_c3d4c1fecd65f20ceb03b7d74f096516);\n",
              "        \n",
              "    \n",
              "            var tile_layer_0a528f26c57bfb285dd2eb2ccf4fd180 = L.tileLayer(\n",
              "                &quot;https://earthengine.googleapis.com/v1/projects/ee-albalinares20/maps/3a4d4e91f2df8b48cde6d5b8938dcbf6-96a6aae60ac3ba4f3deebb25453adebc/tiles/{z}/{x}/{y}&quot;,\n",
              "                {&quot;attribution&quot;: &quot;Google Earth Engine&quot;, &quot;detectRetina&quot;: false, &quot;maxZoom&quot;: 18, &quot;minZoom&quot;: 0, &quot;noWrap&quot;: false, &quot;opacity&quot;: 1.0, &quot;subdomains&quot;: &quot;abc&quot;, &quot;tms&quot;: false}\n",
              "            );\n",
              "        \n",
              "    \n",
              "            tile_layer_0a528f26c57bfb285dd2eb2ccf4fd180.addTo(map_c3d4c1fecd65f20ceb03b7d74f096516);\n",
              "        \n",
              "    \n",
              "            var tile_layer_5efc79f269cb3ce84c78f1de149b5813 = L.tileLayer(\n",
              "                &quot;https://earthengine.googleapis.com/v1/projects/ee-albalinares20/maps/ae50e2c80c1ae7955072ef928190613e-1187fc5b7282c17d5b4e0007a8862537/tiles/{z}/{x}/{y}&quot;,\n",
              "                {&quot;attribution&quot;: &quot;Google Earth Engine&quot;, &quot;detectRetina&quot;: false, &quot;maxZoom&quot;: 18, &quot;minZoom&quot;: 0, &quot;noWrap&quot;: false, &quot;opacity&quot;: 1.0, &quot;subdomains&quot;: &quot;abc&quot;, &quot;tms&quot;: false}\n",
              "            );\n",
              "        \n",
              "    \n",
              "            tile_layer_5efc79f269cb3ce84c78f1de149b5813.addTo(map_c3d4c1fecd65f20ceb03b7d74f096516);\n",
              "        \n",
              "    \n",
              "            var tile_layer_536adcdaa98b1d0bcee8be74e4f02516 = L.tileLayer(\n",
              "                &quot;https://earthengine.googleapis.com/v1/projects/ee-albalinares20/maps/616e578629aeeb41c8c09f35fc8868d6-952e7f8ba6b7aae07a26727e0b38830f/tiles/{z}/{x}/{y}&quot;,\n",
              "                {&quot;attribution&quot;: &quot;Google Earth Engine&quot;, &quot;detectRetina&quot;: false, &quot;maxZoom&quot;: 18, &quot;minZoom&quot;: 0, &quot;noWrap&quot;: false, &quot;opacity&quot;: 1.0, &quot;subdomains&quot;: &quot;abc&quot;, &quot;tms&quot;: false}\n",
              "            );\n",
              "        \n",
              "    \n",
              "            tile_layer_536adcdaa98b1d0bcee8be74e4f02516.addTo(map_c3d4c1fecd65f20ceb03b7d74f096516);\n",
              "        \n",
              "    \n",
              "            var tile_layer_6363d6bfde66e51c8f704f5fe089bdf5 = L.tileLayer(\n",
              "                &quot;https://earthengine.googleapis.com/v1/projects/ee-albalinares20/maps/afea53013f7c249eaa7fd5c76cb72271-298e218d262c07d4e1225ca2e923ec03/tiles/{z}/{x}/{y}&quot;,\n",
              "                {&quot;attribution&quot;: &quot;Google Earth Engine&quot;, &quot;detectRetina&quot;: false, &quot;maxZoom&quot;: 18, &quot;minZoom&quot;: 0, &quot;noWrap&quot;: false, &quot;opacity&quot;: 1.0, &quot;subdomains&quot;: &quot;abc&quot;, &quot;tms&quot;: false}\n",
              "            );\n",
              "        \n",
              "    \n",
              "            tile_layer_6363d6bfde66e51c8f704f5fe089bdf5.addTo(map_c3d4c1fecd65f20ceb03b7d74f096516);\n",
              "        \n",
              "    \n",
              "            var tile_layer_020a23dc685940a19eab57acc1f4e64e = L.tileLayer(\n",
              "                &quot;https://earthengine.googleapis.com/v1/projects/ee-albalinares20/maps/3f93f4f536f5a3713a54a913189a7fc6-8e33b505564db2c5ef3c420d4f773500/tiles/{z}/{x}/{y}&quot;,\n",
              "                {&quot;attribution&quot;: &quot;Google Earth Engine&quot;, &quot;detectRetina&quot;: false, &quot;maxZoom&quot;: 18, &quot;minZoom&quot;: 0, &quot;noWrap&quot;: false, &quot;opacity&quot;: 1.0, &quot;subdomains&quot;: &quot;abc&quot;, &quot;tms&quot;: false}\n",
              "            );\n",
              "        \n",
              "    \n",
              "            tile_layer_020a23dc685940a19eab57acc1f4e64e.addTo(map_c3d4c1fecd65f20ceb03b7d74f096516);\n",
              "        \n",
              "    \n",
              "            var tile_layer_f4979117b91ae2c0d497352a1e3ea05f = L.tileLayer(\n",
              "                &quot;https://earthengine.googleapis.com/v1/projects/ee-albalinares20/maps/c2277215c57a1278d8cf81e323da273f-8834f02248354fadd5f63adf18d0dc80/tiles/{z}/{x}/{y}&quot;,\n",
              "                {&quot;attribution&quot;: &quot;Google Earth Engine&quot;, &quot;detectRetina&quot;: false, &quot;maxZoom&quot;: 18, &quot;minZoom&quot;: 0, &quot;noWrap&quot;: false, &quot;opacity&quot;: 1.0, &quot;subdomains&quot;: &quot;abc&quot;, &quot;tms&quot;: false}\n",
              "            );\n",
              "        \n",
              "    \n",
              "            tile_layer_f4979117b91ae2c0d497352a1e3ea05f.addTo(map_c3d4c1fecd65f20ceb03b7d74f096516);\n",
              "        \n",
              "    \n",
              "            var tile_layer_e525b100bf93953bf70a9cb635c81aa1 = L.tileLayer(\n",
              "                &quot;https://earthengine.googleapis.com/v1/projects/ee-albalinares20/maps/89a0f2473ffb39711b3aedf5cd40774d-830482ef5708d3fab7a217c228b295d7/tiles/{z}/{x}/{y}&quot;,\n",
              "                {&quot;attribution&quot;: &quot;Google Earth Engine&quot;, &quot;detectRetina&quot;: false, &quot;maxZoom&quot;: 18, &quot;minZoom&quot;: 0, &quot;noWrap&quot;: false, &quot;opacity&quot;: 1.0, &quot;subdomains&quot;: &quot;abc&quot;, &quot;tms&quot;: false}\n",
              "            );\n",
              "        \n",
              "    \n",
              "            tile_layer_e525b100bf93953bf70a9cb635c81aa1.addTo(map_c3d4c1fecd65f20ceb03b7d74f096516);\n",
              "        \n",
              "    \n",
              "            var tile_layer_5b4c1eb59da45a98af353262ecb6fb1c = L.tileLayer(\n",
              "                &quot;https://earthengine.googleapis.com/v1/projects/ee-albalinares20/maps/dc179c3b080495ad9ee02ba7b51a7b2f-473212d2b77ced64a51e5b37419fcd45/tiles/{z}/{x}/{y}&quot;,\n",
              "                {&quot;attribution&quot;: &quot;Google Earth Engine&quot;, &quot;detectRetina&quot;: false, &quot;maxZoom&quot;: 18, &quot;minZoom&quot;: 0, &quot;noWrap&quot;: false, &quot;opacity&quot;: 1.0, &quot;subdomains&quot;: &quot;abc&quot;, &quot;tms&quot;: false}\n",
              "            );\n",
              "        \n",
              "    \n",
              "            tile_layer_5b4c1eb59da45a98af353262ecb6fb1c.addTo(map_c3d4c1fecd65f20ceb03b7d74f096516);\n",
              "        \n",
              "    \n",
              "            var tile_layer_9f487d8e752a726ee7c9726ea27e5c36 = L.tileLayer(\n",
              "                &quot;https://earthengine.googleapis.com/v1/projects/ee-albalinares20/maps/43682a0072448aac601dfb77289901ec-a6be72ed0c955badb059af83572c35a5/tiles/{z}/{x}/{y}&quot;,\n",
              "                {&quot;attribution&quot;: &quot;Google Earth Engine&quot;, &quot;detectRetina&quot;: false, &quot;maxZoom&quot;: 18, &quot;minZoom&quot;: 0, &quot;noWrap&quot;: false, &quot;opacity&quot;: 1.0, &quot;subdomains&quot;: &quot;abc&quot;, &quot;tms&quot;: false}\n",
              "            );\n",
              "        \n",
              "    \n",
              "            tile_layer_9f487d8e752a726ee7c9726ea27e5c36.addTo(map_c3d4c1fecd65f20ceb03b7d74f096516);\n",
              "        \n",
              "    \n",
              "            var tile_layer_5ebab7e5f09ee022c369527388efa21c = L.tileLayer(\n",
              "                &quot;https://earthengine.googleapis.com/v1/projects/ee-albalinares20/maps/550f4fd6169cd60a03d5432ab4506a3c-b861db182e49fcbc96fe4be8ba2b4b0b/tiles/{z}/{x}/{y}&quot;,\n",
              "                {&quot;attribution&quot;: &quot;Google Earth Engine&quot;, &quot;detectRetina&quot;: false, &quot;maxZoom&quot;: 18, &quot;minZoom&quot;: 0, &quot;noWrap&quot;: false, &quot;opacity&quot;: 1.0, &quot;subdomains&quot;: &quot;abc&quot;, &quot;tms&quot;: false}\n",
              "            );\n",
              "        \n",
              "    \n",
              "            tile_layer_5ebab7e5f09ee022c369527388efa21c.addTo(map_c3d4c1fecd65f20ceb03b7d74f096516);\n",
              "        \n",
              "    \n",
              "            var tile_layer_c53a9934e919611c6e65dfc9af26b064 = L.tileLayer(\n",
              "                &quot;https://earthengine.googleapis.com/v1/projects/ee-albalinares20/maps/376d12a4b1da2906399b3668e7d2d1c8-dfaf1f7c23be418d57109d1d6fea5161/tiles/{z}/{x}/{y}&quot;,\n",
              "                {&quot;attribution&quot;: &quot;Google Earth Engine&quot;, &quot;detectRetina&quot;: false, &quot;maxZoom&quot;: 18, &quot;minZoom&quot;: 0, &quot;noWrap&quot;: false, &quot;opacity&quot;: 1.0, &quot;subdomains&quot;: &quot;abc&quot;, &quot;tms&quot;: false}\n",
              "            );\n",
              "        \n",
              "    \n",
              "            tile_layer_c53a9934e919611c6e65dfc9af26b064.addTo(map_c3d4c1fecd65f20ceb03b7d74f096516);\n",
              "        \n",
              "    \n",
              "            var tile_layer_aa626c59522db2f0125bd7ec97a2fe6f = L.tileLayer(\n",
              "                &quot;https://earthengine.googleapis.com/v1/projects/ee-albalinares20/maps/9d4b8820be1bbf0f464b388c732a6ed2-d9caf1728234dd7a27a5ada77262611a/tiles/{z}/{x}/{y}&quot;,\n",
              "                {&quot;attribution&quot;: &quot;Google Earth Engine&quot;, &quot;detectRetina&quot;: false, &quot;maxZoom&quot;: 18, &quot;minZoom&quot;: 0, &quot;noWrap&quot;: false, &quot;opacity&quot;: 1.0, &quot;subdomains&quot;: &quot;abc&quot;, &quot;tms&quot;: false}\n",
              "            );\n",
              "        \n",
              "    \n",
              "            tile_layer_aa626c59522db2f0125bd7ec97a2fe6f.addTo(map_c3d4c1fecd65f20ceb03b7d74f096516);\n",
              "        \n",
              "    \n",
              "            var tile_layer_37cdb7d1151c99e2afccd3dce3502f95 = L.tileLayer(\n",
              "                &quot;https://earthengine.googleapis.com/v1/projects/ee-albalinares20/maps/a7f1772ab27032ccef987727d6f8cbe2-82d35fcc217e20bd68a0b62150921f9c/tiles/{z}/{x}/{y}&quot;,\n",
              "                {&quot;attribution&quot;: &quot;Google Earth Engine&quot;, &quot;detectRetina&quot;: false, &quot;maxZoom&quot;: 18, &quot;minZoom&quot;: 0, &quot;noWrap&quot;: false, &quot;opacity&quot;: 1.0, &quot;subdomains&quot;: &quot;abc&quot;, &quot;tms&quot;: false}\n",
              "            );\n",
              "        \n",
              "    \n",
              "            tile_layer_37cdb7d1151c99e2afccd3dce3502f95.addTo(map_c3d4c1fecd65f20ceb03b7d74f096516);\n",
              "        \n",
              "    \n",
              "            var tile_layer_f60f2464b74378ebbe13d8f3b34e7911 = L.tileLayer(\n",
              "                &quot;https://earthengine.googleapis.com/v1/projects/ee-albalinares20/maps/4e4b51234b8dc306b3d054712992b075-c9e322ff1a2da83dc79393628a40996d/tiles/{z}/{x}/{y}&quot;,\n",
              "                {&quot;attribution&quot;: &quot;Google Earth Engine&quot;, &quot;detectRetina&quot;: false, &quot;maxZoom&quot;: 18, &quot;minZoom&quot;: 0, &quot;noWrap&quot;: false, &quot;opacity&quot;: 1.0, &quot;subdomains&quot;: &quot;abc&quot;, &quot;tms&quot;: false}\n",
              "            );\n",
              "        \n",
              "    \n",
              "            tile_layer_f60f2464b74378ebbe13d8f3b34e7911.addTo(map_c3d4c1fecd65f20ceb03b7d74f096516);\n",
              "        \n",
              "    \n",
              "            var tile_layer_6faaad86b24308d85695f47213b90cca = L.tileLayer(\n",
              "                &quot;https://earthengine.googleapis.com/v1/projects/ee-albalinares20/maps/354485f9da4e99ce818a46262ea09cd6-d8e3f8ea87d013c11ef537a9a40a23df/tiles/{z}/{x}/{y}&quot;,\n",
              "                {&quot;attribution&quot;: &quot;Google Earth Engine&quot;, &quot;detectRetina&quot;: false, &quot;maxZoom&quot;: 18, &quot;minZoom&quot;: 0, &quot;noWrap&quot;: false, &quot;opacity&quot;: 1.0, &quot;subdomains&quot;: &quot;abc&quot;, &quot;tms&quot;: false}\n",
              "            );\n",
              "        \n",
              "    \n",
              "            tile_layer_6faaad86b24308d85695f47213b90cca.addTo(map_c3d4c1fecd65f20ceb03b7d74f096516);\n",
              "        \n",
              "    \n",
              "            var tile_layer_85d64a1d6cb550031eaa3f8c255add68 = L.tileLayer(\n",
              "                &quot;https://earthengine.googleapis.com/v1/projects/ee-albalinares20/maps/788ee90de0c4bd7f98cc5837cf7494f8-4d1a97c61af0a41f50b31514e0ad419a/tiles/{z}/{x}/{y}&quot;,\n",
              "                {&quot;attribution&quot;: &quot;Google Earth Engine&quot;, &quot;detectRetina&quot;: false, &quot;maxZoom&quot;: 18, &quot;minZoom&quot;: 0, &quot;noWrap&quot;: false, &quot;opacity&quot;: 1.0, &quot;subdomains&quot;: &quot;abc&quot;, &quot;tms&quot;: false}\n",
              "            );\n",
              "        \n",
              "    \n",
              "            tile_layer_85d64a1d6cb550031eaa3f8c255add68.addTo(map_c3d4c1fecd65f20ceb03b7d74f096516);\n",
              "        \n",
              "    \n",
              "            var layer_control_4f56b3421b7a11b87d218a0169b0a71e_layers = {\n",
              "                base_layers : {\n",
              "                    &quot;openstreetmap&quot; : tile_layer_3b0cbbd7f1412077866df18fd9d9348d,\n",
              "                },\n",
              "                overlays :  {\n",
              "                    &quot;Google Maps&quot; : tile_layer_c31a732357c53dc6a37ad59b964d589d,\n",
              "                    &quot;Google Satellite&quot; : tile_layer_15f0f801fc2c34e5c5dd07b3d63b5adb,\n",
              "                    &quot;NDVI_1999&quot; : tile_layer_792f20a3c80bb033d13204f6f5650b99,\n",
              "                    &quot;NDVI_2000&quot; : tile_layer_8d9e9ad094673115aee93d97b978f775,\n",
              "                    &quot;NDVI_2001&quot; : tile_layer_b9f8a114167b81a8673905cedb803445,\n",
              "                    &quot;NDVI_2002&quot; : tile_layer_cb42217fcc4aea796407f853acb2a0ba,\n",
              "                    &quot;NDVI_2003&quot; : tile_layer_cdf0d0501a350e9d2fd66585446e6ca3,\n",
              "                    &quot;NDVI_2004&quot; : tile_layer_29b9df7e59e09899f453ed7ddb28e815,\n",
              "                    &quot;NDVI_2005&quot; : tile_layer_5da813201e1941c17926d1d364e1e90d,\n",
              "                    &quot;NDVI_2006&quot; : tile_layer_0a528f26c57bfb285dd2eb2ccf4fd180,\n",
              "                    &quot;NDVI_2007&quot; : tile_layer_5efc79f269cb3ce84c78f1de149b5813,\n",
              "                    &quot;NDVI_2008&quot; : tile_layer_536adcdaa98b1d0bcee8be74e4f02516,\n",
              "                    &quot;NDVI_2009&quot; : tile_layer_6363d6bfde66e51c8f704f5fe089bdf5,\n",
              "                    &quot;NDVI_2010&quot; : tile_layer_020a23dc685940a19eab57acc1f4e64e,\n",
              "                    &quot;NDVI_2011&quot; : tile_layer_f4979117b91ae2c0d497352a1e3ea05f,\n",
              "                    &quot;NDVI_2012&quot; : tile_layer_e525b100bf93953bf70a9cb635c81aa1,\n",
              "                    &quot;NDVI_2013&quot; : tile_layer_5b4c1eb59da45a98af353262ecb6fb1c,\n",
              "                    &quot;NDVI_2014&quot; : tile_layer_9f487d8e752a726ee7c9726ea27e5c36,\n",
              "                    &quot;NDVI_2015&quot; : tile_layer_5ebab7e5f09ee022c369527388efa21c,\n",
              "                    &quot;NDVI_2016&quot; : tile_layer_c53a9934e919611c6e65dfc9af26b064,\n",
              "                    &quot;NDVI_2017&quot; : tile_layer_aa626c59522db2f0125bd7ec97a2fe6f,\n",
              "                    &quot;NDVI_2018&quot; : tile_layer_37cdb7d1151c99e2afccd3dce3502f95,\n",
              "                    &quot;NDVI_2019&quot; : tile_layer_f60f2464b74378ebbe13d8f3b34e7911,\n",
              "                    &quot;NDVI_2020&quot; : tile_layer_6faaad86b24308d85695f47213b90cca,\n",
              "                    &quot;NDVI_2021&quot; : tile_layer_85d64a1d6cb550031eaa3f8c255add68,\n",
              "                },\n",
              "            };\n",
              "            let layer_control_4f56b3421b7a11b87d218a0169b0a71e = L.control.layers(\n",
              "                layer_control_4f56b3421b7a11b87d218a0169b0a71e_layers.base_layers,\n",
              "                layer_control_4f56b3421b7a11b87d218a0169b0a71e_layers.overlays,\n",
              "                {&quot;autoZIndex&quot;: true, &quot;collapsed&quot;: true, &quot;position&quot;: &quot;topright&quot;}\n",
              "            ).addTo(map_c3d4c1fecd65f20ceb03b7d74f096516);\n",
              "\n",
              "        \n",
              "&lt;/script&gt;\n",
              "&lt;/html&gt;\" style=\"position:absolute;width:100%;height:100%;left:0;top:0;border:none !important;\" allowfullscreen webkitallowfullscreen mozallowfullscreen></iframe></div></div>"
            ]
          },
          "metadata": {},
          "execution_count": 285
        }
      ]
    },
    {
      "cell_type": "markdown",
      "source": [
        "## Cálculo y exportación de la gráfica del NDVI medio anual en la zona"
      ],
      "metadata": {
        "id": "mvGTtm21jL1L"
      }
    },
    {
      "cell_type": "code",
      "source": [
        "#VALORES NDVI PARA LA ZONA DEL HUMEDAL EN CADA AÑO\n",
        "data_zone = []\n",
        "for band in bands:\n",
        "  data_zone.append(band.reduceRegion(ee.Reducer.median(), zone, 30).get('NDVI').getInfo())\n",
        "data_zone"
      ],
      "metadata": {
        "id": "u09a1tLI5t7L",
        "colab": {
          "base_uri": "https://localhost:8080/"
        },
        "outputId": "42380bdc-9068-4dde-b86e-f438ded41f3d"
      },
      "execution_count": null,
      "outputs": [
        {
          "output_type": "execute_result",
          "data": {
            "text/plain": [
              "[0.036127453146154107,\n",
              " 0.0410427726147361,\n",
              " 0.04198284775235524,\n",
              " 0.03414121971641214,\n",
              " 0.06347989794848317,\n",
              " 0.04780433222991768,\n",
              " 0.05173867768903074,\n",
              " 0.05373560034369519,\n",
              " 0.041977832453037725,\n",
              " 0.04587602156187114,\n",
              " 0.05369404832178244,\n",
              " 0.04784565069203393,\n",
              " 0.05177489543795268,\n",
              " 0.04400406000291608,\n",
              " 0.04976688980101313,\n",
              " 0.05758652849136502,\n",
              " 0.04782789296945277,\n",
              " 0.047861076442772946,\n",
              " 0.04785946274540249,\n",
              " 0.049816364730014114,\n",
              " 0.04779121263136416,\n",
              " 0.04789445021612078,\n",
              " 0.043985240656312305]"
            ]
          },
          "metadata": {},
          "execution_count": 286
        }
      ]
    },
    {
      "cell_type": "code",
      "source": [
        "#GRAFICA PARA VER LOS DATOS\n",
        "import pandas as pd\n",
        "\n",
        "df = pd.DataFrame({'NDVI': data_zone}, index=range(1999,2022))\n",
        "df.index = df.index.rename('Year') #para saber que cada fila corresponde a cada año\n",
        "\n",
        "graf = df.plot()\n",
        "graf.set_ylim(0, 0.3)\n"
      ],
      "metadata": {
        "id": "Z_x2FuQl57uu",
        "colab": {
          "base_uri": "https://localhost:8080/",
          "height": 472
        },
        "outputId": "df04f887-e502-48fb-988a-5ec3c1f1cec7"
      },
      "execution_count": null,
      "outputs": [
        {
          "output_type": "execute_result",
          "data": {
            "text/plain": [
              "(0.0, 0.3)"
            ]
          },
          "metadata": {},
          "execution_count": 287
        },
        {
          "output_type": "display_data",
          "data": {
            "text/plain": [
              "<Figure size 640x480 with 1 Axes>"
            ],
            "image/png": "[encoded data removed]"
          },
          "metadata": {}
        }
      ]
    },
    {
      "cell_type": "code",
      "source": [
        "\n",
        "# Mostrar el gráfico\n",
        "#plt.show()"
      ],
      "metadata": {
        "id": "EOXDoSP3mUsn"
      },
      "execution_count": null,
      "outputs": []
    },
    {
      "cell_type": "markdown",
      "source": [
        "## Mann-Kendall"
      ],
      "metadata": {
        "id": "TxJ7P2qc4blA"
      }
    },
    {
      "cell_type": "code",
      "source": [
        "#GENERAMOS UNA VARIABLE ÚNICA QUE CONTENGA LAS DIFERENTES CAPAS (bands)\n",
        "stack_collection = ee.ImageCollection(bands)\n",
        "indexes = stack_collection.toBands()"
      ],
      "metadata": {
        "id": "-YUDoV8NAKyG"
      },
      "execution_count": null,
      "outputs": []
    },
    {
      "cell_type": "code",
      "source": [
        "#CALCULAMOS TAU PARA CONOCER LA TENDENCIA DEL HUMEDAL\n",
        "index_trend = indexes.reduce(ee.Reducer.kendallsCorrelation())\n",
        "tau = index_trend.select('tau')"
      ],
      "metadata": {
        "id": "OM_3iVccCRX0"
      },
      "execution_count": null,
      "outputs": []
    },
    {
      "cell_type": "markdown",
      "source": [
        "**¿Cómo se pone vmin y vmax al tau?**"
      ],
      "metadata": {
        "id": "zsyh06r6lmvc"
      }
    },
    {
      "cell_type": "code",
      "source": [
        "#vmin = band.reduceRegion(ee.Reducer.min(), zone).get('Mann-Kendal').getInfo()\n",
        "#print(vmin)"
      ],
      "metadata": {
        "id": "TC3psVWnkrS3"
      },
      "execution_count": null,
      "outputs": []
    },
    {
      "cell_type": "code",
      "source": [
        "#vmax = band.reduceRegion(ee.Reducer.max(), zone).get('tau').getInfo()\n",
        "#print(vmax)"
      ],
      "metadata": {
        "id": "m-ddJX2SkrS4"
      },
      "execution_count": null,
      "outputs": []
    },
    {
      "cell_type": "code",
      "source": [
        "#GENERAMOS UN MAPA QUE MUESTRE EL TAU DE CADA PÍXEL DEL BUFFER DEL HUMEDAL\n",
        "# Los valores negativos indican una tendencia decreciente y los valores positivos indican una tendencia creciente\n",
        "\n",
        "m = geemap.Map()\n",
        "m.setOptions('SATELLITE')\n",
        "m.centerObject(zone, zoom=15)\n",
        "vis_params = {'min': -1, 'max': 1, 'palette': ['#d7191c','#fdae61','#ffffbf','#abdda4','#2b83ba']} # Paleta de colores: rojos = negativos, blanco = 0 y azules = positivos.\n",
        "m.addLayer(tau, vis_params, 'Mann-Kendal')\n",
        "m.addLayerControl()\n",
        "m"
      ],
      "metadata": {
        "id": "rPVj-pe1CiT-",
        "colab": {
          "base_uri": "https://localhost:8080/",
          "height": 730
        },
        "outputId": "f375d6fb-05eb-400b-9bd6-8e89542d8ead"
      },
      "execution_count": null,
      "outputs": [
        {
          "output_type": "execute_result",
          "data": {
            "text/plain": [
              "<eefolium.eefolium.Map at 0x79865864bf70>"
            ],
            "text/html": [
              "<div style=\"width:100%;\"><div style=\"position:relative;width:100%;height:0;padding-bottom:60%;\"><span style=\"color:#565656\">Make this Notebook Trusted to load map: File -> Trust Notebook</span><iframe srcdoc=\"&lt;!DOCTYPE html&gt;\n",
              "&lt;html&gt;\n",
              "&lt;head&gt;\n",
              "    \n",
              "    &lt;meta http-equiv=&quot;content-type&quot; content=&quot;text/html; charset=UTF-8&quot; /&gt;\n",
              "    \n",
              "        &lt;script&gt;\n",
              "            L_NO_TOUCH = false;\n",
              "            L_DISABLE_3D = false;\n",
              "        &lt;/script&gt;\n",
              "    \n",
              "    &lt;style&gt;html, body {width: 100%;height: 100%;margin: 0;padding: 0;}&lt;/style&gt;\n",
              "    &lt;style&gt;#map {position:absolute;top:0;bottom:0;right:0;left:0;}&lt;/style&gt;\n",
              "    &lt;script src=&quot;https://cdn.jsdelivr.net/npm/leaflet@1.9.3/dist/leaflet.js&quot;&gt;&lt;/script&gt;\n",
              "    &lt;script src=&quot;https://code.jquery.com/jquery-3.7.1.min.js&quot;&gt;&lt;/script&gt;\n",
              "    &lt;script src=&quot;https://cdn.jsdelivr.net/npm/bootstrap@5.2.2/dist/js/bootstrap.bundle.min.js&quot;&gt;&lt;/script&gt;\n",
              "    &lt;script src=&quot;https://cdnjs.cloudflare.com/ajax/libs/Leaflet.awesome-markers/2.0.2/leaflet.awesome-markers.js&quot;&gt;&lt;/script&gt;\n",
              "    &lt;link rel=&quot;stylesheet&quot; href=&quot;https://cdn.jsdelivr.net/npm/leaflet@1.9.3/dist/leaflet.css&quot;/&gt;\n",
              "    &lt;link rel=&quot;stylesheet&quot; href=&quot;https://cdn.jsdelivr.net/npm/bootstrap@5.2.2/dist/css/bootstrap.min.css&quot;/&gt;\n",
              "    &lt;link rel=&quot;stylesheet&quot; href=&quot;https://netdna.bootstrapcdn.com/bootstrap/3.0.0/css/bootstrap-glyphicons.css&quot;/&gt;\n",
              "    &lt;link rel=&quot;stylesheet&quot; href=&quot;https://cdn.jsdelivr.net/npm/@fortawesome/fontawesome-free@6.2.0/css/all.min.css&quot;/&gt;\n",
              "    &lt;link rel=&quot;stylesheet&quot; href=&quot;https://cdnjs.cloudflare.com/ajax/libs/Leaflet.awesome-markers/2.0.2/leaflet.awesome-markers.css&quot;/&gt;\n",
              "    &lt;link rel=&quot;stylesheet&quot; href=&quot;https://cdn.jsdelivr.net/gh/python-visualization/folium/folium/templates/leaflet.awesome.rotate.min.css&quot;/&gt;\n",
              "    \n",
              "            &lt;meta name=&quot;viewport&quot; content=&quot;width=device-width,\n",
              "                initial-scale=1.0, maximum-scale=1.0, user-scalable=no&quot; /&gt;\n",
              "            &lt;style&gt;\n",
              "                #map_9b54ebfa3e7a54ff23f9fa0a44e0af3f {\n",
              "                    position: relative;\n",
              "                    width: 100.0%;\n",
              "                    height: 100.0%;\n",
              "                    left: 0.0%;\n",
              "                    top: 0.0%;\n",
              "                }\n",
              "                .leaflet-container { font-size: 1rem; }\n",
              "            &lt;/style&gt;\n",
              "        \n",
              "    &lt;script src=&quot;https://cdn.jsdelivr.net/npm/leaflet.fullscreen@3.0.0/Control.FullScreen.min.js&quot;&gt;&lt;/script&gt;\n",
              "    &lt;link rel=&quot;stylesheet&quot; href=&quot;https://cdn.jsdelivr.net/npm/leaflet.fullscreen@3.0.0/Control.FullScreen.css&quot;/&gt;\n",
              "&lt;/head&gt;\n",
              "&lt;body&gt;\n",
              "    \n",
              "    \n",
              "            &lt;div class=&quot;folium-map&quot; id=&quot;map_9b54ebfa3e7a54ff23f9fa0a44e0af3f&quot; &gt;&lt;/div&gt;\n",
              "        \n",
              "&lt;/body&gt;\n",
              "&lt;script&gt;\n",
              "    \n",
              "    \n",
              "            var map_9b54ebfa3e7a54ff23f9fa0a44e0af3f = L.map(\n",
              "                &quot;map_9b54ebfa3e7a54ff23f9fa0a44e0af3f&quot;,\n",
              "                {\n",
              "                    center: [40.0, -100.0],\n",
              "                    crs: L.CRS.EPSG3857,\n",
              "                    zoom: 4,\n",
              "                    zoomControl: true,\n",
              "                    preferCanvas: false,\n",
              "                    useEe: true,\n",
              "                    eeInitialize: true,\n",
              "                    addGoogleMap: true,\n",
              "                    pluginLatlngpopup: true,\n",
              "                    pluginFullscreen: true,\n",
              "                    pluginDraw: false,\n",
              "                    DrawExport: true,\n",
              "                    pluginMinimap: false,\n",
              "                    pluginLayercontrol: false,\n",
              "                }\n",
              "            );\n",
              "\n",
              "            \n",
              "\n",
              "        \n",
              "    \n",
              "            var tile_layer_8c164afcb9c921b495419c42a8414751 = L.tileLayer(\n",
              "                &quot;https://tile.openstreetmap.org/{z}/{x}/{y}.png&quot;,\n",
              "                {&quot;attribution&quot;: &quot;\\u0026copy; \\u003ca href=\\&quot;https://www.openstreetmap.org/copyright\\&quot;\\u003eOpenStreetMap\\u003c/a\\u003e contributors&quot;, &quot;detectRetina&quot;: false, &quot;maxNativeZoom&quot;: 19, &quot;maxZoom&quot;: 19, &quot;minZoom&quot;: 0, &quot;noWrap&quot;: false, &quot;opacity&quot;: 1, &quot;subdomains&quot;: &quot;abc&quot;, &quot;tms&quot;: false}\n",
              "            );\n",
              "        \n",
              "    \n",
              "            tile_layer_8c164afcb9c921b495419c42a8414751.addTo(map_9b54ebfa3e7a54ff23f9fa0a44e0af3f);\n",
              "        \n",
              "    \n",
              "            var tile_layer_c31a732357c53dc6a37ad59b964d589d = L.tileLayer(\n",
              "                &quot;https://mt1.google.com/vt/lyrs=m\\u0026x={x}\\u0026y={y}\\u0026z={z}&quot;,\n",
              "                {&quot;attribution&quot;: &quot;Google&quot;, &quot;detectRetina&quot;: false, &quot;maxZoom&quot;: 18, &quot;minZoom&quot;: 0, &quot;noWrap&quot;: false, &quot;opacity&quot;: 1, &quot;subdomains&quot;: &quot;abc&quot;, &quot;tms&quot;: false}\n",
              "            );\n",
              "        \n",
              "    \n",
              "            tile_layer_c31a732357c53dc6a37ad59b964d589d.addTo(map_9b54ebfa3e7a54ff23f9fa0a44e0af3f);\n",
              "        \n",
              "    \n",
              "                var lat_lng_popup_103c1aebff7c52f6a8486b3056525a37 = L.popup();\n",
              "                function latLngPop(e) {\n",
              "                    lat_lng_popup_103c1aebff7c52f6a8486b3056525a37\n",
              "                        .setLatLng(e.latlng)\n",
              "                        .setContent(&quot;Latitude: &quot; + e.latlng.lat.toFixed(4) +\n",
              "                                    &quot;&lt;br&gt;Longitude: &quot; + e.latlng.lng.toFixed(4))\n",
              "                        .openOn(map_9b54ebfa3e7a54ff23f9fa0a44e0af3f);\n",
              "                    }\n",
              "                map_9b54ebfa3e7a54ff23f9fa0a44e0af3f.on(&#x27;click&#x27;, latLngPop);\n",
              "            \n",
              "    \n",
              "            L.control.fullscreen(\n",
              "                {&quot;forceSeparateButton&quot;: false, &quot;position&quot;: &quot;topleft&quot;, &quot;title&quot;: &quot;Full Screen&quot;, &quot;titleCancel&quot;: &quot;Exit Full Screen&quot;}\n",
              "            ).addTo(map_9b54ebfa3e7a54ff23f9fa0a44e0af3f);\n",
              "        \n",
              "    \n",
              "            map_9b54ebfa3e7a54ff23f9fa0a44e0af3f.fitBounds(\n",
              "                [[40, -100], [40, -100]],\n",
              "                {&quot;maxZoom&quot;: 4}\n",
              "            );\n",
              "        \n",
              "    \n",
              "            var tile_layer_15f0f801fc2c34e5c5dd07b3d63b5adb = L.tileLayer(\n",
              "                &quot;https://mt1.google.com/vt/lyrs=s\\u0026x={x}\\u0026y={y}\\u0026z={z}&quot;,\n",
              "                {&quot;attribution&quot;: &quot;Google&quot;, &quot;detectRetina&quot;: false, &quot;maxZoom&quot;: 18, &quot;minZoom&quot;: 0, &quot;noWrap&quot;: false, &quot;opacity&quot;: 1, &quot;subdomains&quot;: &quot;abc&quot;, &quot;tms&quot;: false}\n",
              "            );\n",
              "        \n",
              "    \n",
              "            tile_layer_15f0f801fc2c34e5c5dd07b3d63b5adb.addTo(map_9b54ebfa3e7a54ff23f9fa0a44e0af3f);\n",
              "        \n",
              "    \n",
              "            map_9b54ebfa3e7a54ff23f9fa0a44e0af3f.fitBounds(\n",
              "                [[36.70771718839134, -2.672266848991161], [36.70771718839134, -2.672266848991161]],\n",
              "                {&quot;maxZoom&quot;: 15}\n",
              "            );\n",
              "        \n",
              "    \n",
              "            var tile_layer_bd5264aa955ce064a0a414889f67a3ec = L.tileLayer(\n",
              "                &quot;https://earthengine.googleapis.com/v1/projects/ee-albalinares20/maps/afb4aba9ad61688d4876a595aee69cba-b6e691e23efb2e1a7e51cb6d207f25b6/tiles/{z}/{x}/{y}&quot;,\n",
              "                {&quot;attribution&quot;: &quot;Google Earth Engine&quot;, &quot;detectRetina&quot;: false, &quot;maxZoom&quot;: 18, &quot;minZoom&quot;: 0, &quot;noWrap&quot;: false, &quot;opacity&quot;: 1.0, &quot;subdomains&quot;: &quot;abc&quot;, &quot;tms&quot;: false}\n",
              "            );\n",
              "        \n",
              "    \n",
              "            tile_layer_bd5264aa955ce064a0a414889f67a3ec.addTo(map_9b54ebfa3e7a54ff23f9fa0a44e0af3f);\n",
              "        \n",
              "    \n",
              "            var layer_control_f9dda90b4c87b8f1de51c6688cbc0bd9_layers = {\n",
              "                base_layers : {\n",
              "                    &quot;openstreetmap&quot; : tile_layer_8c164afcb9c921b495419c42a8414751,\n",
              "                },\n",
              "                overlays :  {\n",
              "                    &quot;Google Maps&quot; : tile_layer_c31a732357c53dc6a37ad59b964d589d,\n",
              "                    &quot;Google Satellite&quot; : tile_layer_15f0f801fc2c34e5c5dd07b3d63b5adb,\n",
              "                    &quot;Mann-Kendal&quot; : tile_layer_bd5264aa955ce064a0a414889f67a3ec,\n",
              "                },\n",
              "            };\n",
              "            let layer_control_f9dda90b4c87b8f1de51c6688cbc0bd9 = L.control.layers(\n",
              "                layer_control_f9dda90b4c87b8f1de51c6688cbc0bd9_layers.base_layers,\n",
              "                layer_control_f9dda90b4c87b8f1de51c6688cbc0bd9_layers.overlays,\n",
              "                {&quot;autoZIndex&quot;: true, &quot;collapsed&quot;: true, &quot;position&quot;: &quot;topright&quot;}\n",
              "            ).addTo(map_9b54ebfa3e7a54ff23f9fa0a44e0af3f);\n",
              "\n",
              "        \n",
              "&lt;/script&gt;\n",
              "&lt;/html&gt;\" style=\"position:absolute;width:100%;height:100%;left:0;top:0;border:none !important;\" allowfullscreen webkitallowfullscreen mozallowfullscreen></iframe></div></div>"
            ]
          },
          "metadata": {},
          "execution_count": 295
        }
      ]
    },
    {
      "cell_type": "markdown",
      "source": [
        "##Exportar:"
      ],
      "metadata": {
        "id": "N6pGfufcj9F2"
      }
    },
    {
      "cell_type": "code",
      "source": [
        "#EXPORTAMOS EN TIFF\n",
        "for i, band in enumerate(bands):\n",
        "  geemap.ee_export_image_to_drive(\n",
        "      band, zonename+'_'+index+'_'+str(1999+i), folder='GEE_ECOINF', region=zone.geometry(),scale=30\n",
        "  ) # Nos da 23 mapas raster, uno para cada año\n",
        "  # .geometry() y no se pone solamente zone, porque region= te pide una propiedad de geometría de un objeto"
      ],
      "metadata": {
        "id": "J8SPpSNDlpBY",
        "colab": {
          "base_uri": "https://localhost:8080/"
        },
        "outputId": "25a7b13a-bab1-4656-9dc4-864190d7c0c5"
      },
      "execution_count": null,
      "outputs": [
        {
          "output_type": "stream",
          "name": "stdout",
          "text": [
            "Exporting zone15b_NDVI_1999 ...\n",
            "Exporting zone15b_NDVI_2000 ...\n",
            "Exporting zone15b_NDVI_2001 ...\n",
            "Exporting zone15b_NDVI_2002 ...\n",
            "Exporting zone15b_NDVI_2003 ...\n",
            "Exporting zone15b_NDVI_2004 ...\n",
            "Exporting zone15b_NDVI_2005 ...\n",
            "Exporting zone15b_NDVI_2006 ...\n",
            "Exporting zone15b_NDVI_2007 ...\n",
            "Exporting zone15b_NDVI_2008 ...\n",
            "Exporting zone15b_NDVI_2009 ...\n",
            "Exporting zone15b_NDVI_2010 ...\n",
            "Exporting zone15b_NDVI_2011 ...\n",
            "Exporting zone15b_NDVI_2012 ...\n",
            "Exporting zone15b_NDVI_2013 ...\n",
            "Exporting zone15b_NDVI_2014 ...\n",
            "Exporting zone15b_NDVI_2015 ...\n",
            "Exporting zone15b_NDVI_2016 ...\n",
            "Exporting zone15b_NDVI_2017 ...\n",
            "Exporting zone15b_NDVI_2018 ...\n",
            "Exporting zone15b_NDVI_2019 ...\n",
            "Exporting zone15b_NDVI_2020 ...\n",
            "Exporting zone15b_NDVI_2021 ...\n"
          ]
        }
      ]
    },
    {
      "cell_type": "code",
      "source": [
        "#CONECTAR GOOGLE COLAB CON DRIVE\n",
        "from google.colab import drive\n",
        "drive.mount('/content/drive')"
      ],
      "metadata": {
        "id": "fVY7m2dn5-yo",
        "colab": {
          "base_uri": "https://localhost:8080/"
        },
        "outputId": "d3a78087-d7e0-4f18-cb40-bed0b3edcffd"
      },
      "execution_count": null,
      "outputs": [
        {
          "output_type": "stream",
          "name": "stdout",
          "text": [
            "Drive already mounted at /content/drive; to attempt to forcibly remount, call drive.mount(\"/content/drive\", force_remount=True).\n"
          ]
        }
      ]
    },
    {
      "cell_type": "code",
      "source": [
        "#EXPORTAR DATOS ANUALES DE NDVI\n",
        "df.to_csv('/content/drive/My Drive/GEE_ECOINF/'+index+'_'+zonename+'.csv')"
      ],
      "metadata": {
        "id": "6ydEuyhfj8wj"
      },
      "execution_count": null,
      "outputs": []
    },
    {
      "cell_type": "code",
      "source": [
        "#EXPORTAMOS A DRIVE EL MAPA CON LOS VALORES DE TAU\n",
        "geemap.ee_export_image_to_drive(\n",
        "    tau, index+'_'+zonename+'_tau', folder='GEE_ECOINF',region=zone.geometry(), scale=30\n",
        ")"
      ],
      "metadata": {
        "id": "rTqd-D8oDRMx",
        "colab": {
          "base_uri": "https://localhost:8080/"
        },
        "outputId": "cb2ca607-9a03-4349-fb29-be4644e8c082"
      },
      "execution_count": null,
      "outputs": [
        {
          "output_type": "stream",
          "name": "stdout",
          "text": [
            "Exporting NDVI_zone15b_tau ...\n"
          ]
        }
      ]
    }
  ]
}