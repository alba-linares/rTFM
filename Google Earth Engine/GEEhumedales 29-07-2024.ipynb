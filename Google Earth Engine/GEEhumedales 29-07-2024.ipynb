{
  "nbformat": 4,
  "nbformat_minor": 0,
  "metadata": {
    "colab": {
      "provenance": []
    },
    "kernelspec": {
      "name": "python3",
      "display_name": "Python 3"
    },
    "language_info": {
      "name": "python"
    }
  },
  "cells": [
    {
      "cell_type": "markdown",
      "source": [
        "## Cargar paquetes, cargar capas y definir funciones"
      ],
      "metadata": {
        "id": "vd7-OZH50p45"
      }
    },
    {
      "cell_type": "code",
      "execution_count": null,
      "metadata": {
        "id": "AuWe80QIxTF-",
        "colab": {
          "base_uri": "https://localhost:8080/"
        },
        "outputId": "6fca5fb4-2597-4aeb-abcc-6cce541ccae2"
      },
      "outputs": [
        {
          "output_type": "stream",
          "name": "stdout",
          "text": [
            "Collecting eefolium\n",
            "  Downloading eefolium-0.2.0-py2.py3-none-any.whl (46 kB)\n",
            "\u001b[?25l     \u001b[90m━━━━━━━━━━━━━━━━━━━━━━━━━━━━━━━━━━━━━━━━\u001b[0m \u001b[32m0.0/46.9 kB\u001b[0m \u001b[31m?\u001b[0m eta \u001b[36m-:--:--\u001b[0m\r\u001b[2K     \u001b[91m━━━━━━━━━━━━━━━━━━━━━━━━━━━━━━━━━━\u001b[0m\u001b[91m╸\u001b[0m\u001b[90m━━━━━\u001b[0m \u001b[32m41.0/46.9 kB\u001b[0m \u001b[31m1.5 MB/s\u001b[0m eta \u001b[36m0:00:01\u001b[0m\r\u001b[2K     \u001b[90m━━━━━━━━━━━━━━━━━━━━━━━━━━━━━━━━━━━━━━━━\u001b[0m \u001b[32m46.9/46.9 kB\u001b[0m \u001b[31m1.0 MB/s\u001b[0m eta \u001b[36m0:00:00\u001b[0m\n",
            "\u001b[?25hRequirement already satisfied: earthengine-api in /usr/local/lib/python3.10/dist-packages (from eefolium) (0.1.406)\n",
            "Requirement already satisfied: folium>=0.11.0 in /usr/local/lib/python3.10/dist-packages (from eefolium) (0.14.0)\n",
            "Requirement already satisfied: branca>=0.6.0 in /usr/local/lib/python3.10/dist-packages (from folium>=0.11.0->eefolium) (0.7.2)\n",
            "Requirement already satisfied: jinja2>=2.9 in /usr/local/lib/python3.10/dist-packages (from folium>=0.11.0->eefolium) (3.1.4)\n",
            "Requirement already satisfied: numpy in /usr/local/lib/python3.10/dist-packages (from folium>=0.11.0->eefolium) (1.25.2)\n",
            "Requirement already satisfied: requests in /usr/local/lib/python3.10/dist-packages (from folium>=0.11.0->eefolium) (2.31.0)\n",
            "Requirement already satisfied: google-cloud-storage in /usr/local/lib/python3.10/dist-packages (from earthengine-api->eefolium) (2.8.0)\n",
            "Requirement already satisfied: google-api-python-client>=1.12.1 in /usr/local/lib/python3.10/dist-packages (from earthengine-api->eefolium) (2.84.0)\n",
            "Requirement already satisfied: google-auth>=1.4.1 in /usr/local/lib/python3.10/dist-packages (from earthengine-api->eefolium) (2.27.0)\n",
            "Requirement already satisfied: google-auth-httplib2>=0.0.3 in /usr/local/lib/python3.10/dist-packages (from earthengine-api->eefolium) (0.1.1)\n",
            "Requirement already satisfied: httplib2<1dev,>=0.9.2 in /usr/local/lib/python3.10/dist-packages (from earthengine-api->eefolium) (0.22.0)\n",
            "Requirement already satisfied: google-api-core!=2.0.*,!=2.1.*,!=2.2.*,!=2.3.0,<3.0.0dev,>=1.31.5 in /usr/local/lib/python3.10/dist-packages (from google-api-python-client>=1.12.1->earthengine-api->eefolium) (2.11.1)\n",
            "Requirement already satisfied: uritemplate<5,>=3.0.1 in /usr/local/lib/python3.10/dist-packages (from google-api-python-client>=1.12.1->earthengine-api->eefolium) (4.1.1)\n",
            "Requirement already satisfied: cachetools<6.0,>=2.0.0 in /usr/local/lib/python3.10/dist-packages (from google-auth>=1.4.1->earthengine-api->eefolium) (5.3.3)\n",
            "Requirement already satisfied: pyasn1-modules>=0.2.1 in /usr/local/lib/python3.10/dist-packages (from google-auth>=1.4.1->earthengine-api->eefolium) (0.4.0)\n",
            "Requirement already satisfied: rsa<5,>=3.1.4 in /usr/local/lib/python3.10/dist-packages (from google-auth>=1.4.1->earthengine-api->eefolium) (4.9)\n",
            "Requirement already satisfied: pyparsing!=3.0.0,!=3.0.1,!=3.0.2,!=3.0.3,<4,>=2.4.2 in /usr/local/lib/python3.10/dist-packages (from httplib2<1dev,>=0.9.2->earthengine-api->eefolium) (3.1.2)\n",
            "Requirement already satisfied: MarkupSafe>=2.0 in /usr/local/lib/python3.10/dist-packages (from jinja2>=2.9->folium>=0.11.0->eefolium) (2.1.5)\n",
            "Requirement already satisfied: google-cloud-core<3.0dev,>=2.3.0 in /usr/local/lib/python3.10/dist-packages (from google-cloud-storage->earthengine-api->eefolium) (2.3.3)\n",
            "Requirement already satisfied: google-resumable-media>=2.3.2 in /usr/local/lib/python3.10/dist-packages (from google-cloud-storage->earthengine-api->eefolium) (2.7.0)\n",
            "Requirement already satisfied: charset-normalizer<4,>=2 in /usr/local/lib/python3.10/dist-packages (from requests->folium>=0.11.0->eefolium) (3.3.2)\n",
            "Requirement already satisfied: idna<4,>=2.5 in /usr/local/lib/python3.10/dist-packages (from requests->folium>=0.11.0->eefolium) (3.7)\n",
            "Requirement already satisfied: urllib3<3,>=1.21.1 in /usr/local/lib/python3.10/dist-packages (from requests->folium>=0.11.0->eefolium) (2.0.7)\n",
            "Requirement already satisfied: certifi>=2017.4.17 in /usr/local/lib/python3.10/dist-packages (from requests->folium>=0.11.0->eefolium) (2024.6.2)\n",
            "Requirement already satisfied: googleapis-common-protos<2.0.dev0,>=1.56.2 in /usr/local/lib/python3.10/dist-packages (from google-api-core!=2.0.*,!=2.1.*,!=2.2.*,!=2.3.0,<3.0.0dev,>=1.31.5->google-api-python-client>=1.12.1->earthengine-api->eefolium) (1.63.1)\n",
            "Requirement already satisfied: protobuf!=3.20.0,!=3.20.1,!=4.21.0,!=4.21.1,!=4.21.2,!=4.21.3,!=4.21.4,!=4.21.5,<5.0.0.dev0,>=3.19.5 in /usr/local/lib/python3.10/dist-packages (from google-api-core!=2.0.*,!=2.1.*,!=2.2.*,!=2.3.0,<3.0.0dev,>=1.31.5->google-api-python-client>=1.12.1->earthengine-api->eefolium) (3.20.3)\n",
            "Requirement already satisfied: google-crc32c<2.0dev,>=1.0 in /usr/local/lib/python3.10/dist-packages (from google-resumable-media>=2.3.2->google-cloud-storage->earthengine-api->eefolium) (1.5.0)\n",
            "Requirement already satisfied: pyasn1<0.7.0,>=0.4.6 in /usr/local/lib/python3.10/dist-packages (from pyasn1-modules>=0.2.1->google-auth>=1.4.1->earthengine-api->eefolium) (0.6.0)\n",
            "Installing collected packages: eefolium\n",
            "Successfully installed eefolium-0.2.0\n"
          ]
        }
      ],
      "source": [
        "!pip install eefolium"
      ]
    },
    {
      "cell_type": "code",
      "execution_count": null,
      "metadata": {
        "id": "ISqkRRfAeQ8j"
      },
      "outputs": [],
      "source": [
        "import ee"
      ]
    },
    {
      "cell_type": "code",
      "source": [
        "import eefolium as geemap"
      ],
      "metadata": {
        "id": "xsowvCNnehi7"
      },
      "execution_count": null,
      "outputs": []
    },
    {
      "cell_type": "code",
      "source": [
        "ee.Authenticate()"
      ],
      "metadata": {
        "id": "Wg-_tWe3eiLy"
      },
      "execution_count": null,
      "outputs": []
    },
    {
      "cell_type": "code",
      "source": [
        "ee.Initialize(project='ee-albalinares20')"
      ],
      "metadata": {
        "id": "Cb88L8voekqX"
      },
      "execution_count": null,
      "outputs": []
    },
    {
      "cell_type": "code",
      "source": [
        "zone = ee.FeatureCollection('projects/ee-albalinares20/assets/albufhondaB')\n",
        "zone2 = ee.FeatureCollection('projects/ee-albalinares20/assets/albufnuevaB')\n",
        "zone3 = ee.FeatureCollection('projects/ee-albalinares20/assets/barraguaB')\n",
        "zone4 = ee.FeatureCollection('projects/ee-albalinares20/assets/canoriasB')\n",
        "zone5 = ee.FeatureCollection('projects/ee-albalinares20/assets/cembalnegB')\n",
        "zone6 = ee.FeatureCollection('projects/ee-albalinares20/assets/charcpentB')\n",
        "zone7 = ee.FeatureCollection('projects/ee-albalinares20/assets/humbazaB')\n",
        "zone8 = ee.FeatureCollection('projects/ee-albalinares20/assets/laggravB')\n",
        "zone9 = ee.FeatureCollection('projects/ee-albalinares20/assets/ramoraB')\n",
        "zone10 = ee.FeatureCollection('projects/ee-albalinares20/assets/ribalgaidaB')\n",
        "zone11 = ee.FeatureCollection('projects/ee-albalinares20/assets/rioantasB')\n",
        "zone12 = ee.FeatureCollection('projects/ee-albalinares20/assets/salcaboB')\n",
        "zone13 = ee.FeatureCollection('projects/ee-albalinares20/assets/salcanosB')\n",
        "zone14 = ee.FeatureCollection('projects/ee-albalinares20/assets/salcerrB')\n",
        "zone15 = ee.FeatureCollection('projects/ee-albalinares20/assets/salmargenB')\n",
        "\n",
        "zone99 = ee.FeatureCollection('projects/ee-albalinares20/assets/salcanosC_WGS84')"
      ],
      "metadata": {
        "id": "ifpTGUfSeobA"
      },
      "execution_count": null,
      "outputs": []
    },
    {
      "cell_type": "code",
      "source": [
        "#Aquí se va cambiando la zona para el análisis\n",
        "zone = zone99\n",
        "zone = ee.FeatureCollection('projects/ee-albalinares20/assets/grupo_1_4326')\n",
        "#Recordemos que también hay que cambiarlo del código de exportación"
      ],
      "metadata": {
        "id": "NqiWnc3sPfl-"
      },
      "execution_count": null,
      "outputs": []
    },
    {
      "cell_type": "code",
      "source": [
        "def get_LSWI(img):\n",
        "  return img.addBands(img.normalizedDifference([\"B4\",\"B5\"]).rename(\"LSWI\")) #Son las bandas B4 = NIR y B5 = SWIR-1, porque LSWI = (N - S1)/(N + S1)"
      ],
      "metadata": {
        "id": "y80O9c-Re1yS"
      },
      "execution_count": null,
      "outputs": []
    },
    {
      "cell_type": "markdown",
      "source": [
        "## Mapas LSWI"
      ],
      "metadata": {
        "id": "0ioM60rr4STx"
      }
    },
    {
      "cell_type": "code",
      "source": [
        "#Carga de la colección de imágenes Landsat 7 con reflectancia superficial filtrados por fecha y zona\n",
        "l7collection = (\n",
        "    ee.ImageCollection(\"LANDSAT/LE07/C01/T1_SR\") #SR = surface reflectance de Landsat 7\n",
        "    .filterBounds(zone) #extensión, lo que encuadra a la capa\n",
        "    .filterDate(\"1999-01-01\",\"2021-12-31\") #periodo en el que ha estado Landsat 7 recopilando imágenes\n",
        ")\n",
        "\n",
        "#CÁLCULO DEL ÍNDICE LSWI (Land Surface Water Index) PARA CADA IMAGEN EN LA COLECCIÓN, crea un mosaico de calidad basado en el LSWI y lo recorta según la zona definida. Posteriormente, calcula el promedio del LSWI para cada año en el rango de años especificado, almacenando las bandas resultantes en una lista llamada bands.\n",
        "\n",
        "l7lswi = l7collection.map(get_LSWI) #.map es un loop. Para cada objeto de la lista, le aplica iterativamente la función get_LSWI\n",
        "#clip es lo que lo encuadra dentro de la zona del humedal\n",
        "#En base a la banda que hemos nombrado LSWI\n",
        "#.Reducer.mean te escoge el valor medio en base a LSWI\n",
        "composite = l7lswi.select('LSWI').reduce(ee.Reducer.mean()).rename('LSWI').clip(zone)\n",
        "band = composite.select(\"LSWI\")\n",
        "\n",
        "#PARA CALCULAR EL LSWI EN VARIOS AÑOS:\n",
        "bands = []\n",
        "\n",
        "years = range(1999,2022) #Porque empieza a contar en 1999 y termina en 2021\n",
        "for year in years:\n",
        "  str_year=str(year)\n",
        "  print(str_year)\n",
        "  l7collection = (\n",
        "    ee.ImageCollection(\"LANDSAT/LE07/C01/T1_SR\")\n",
        "    .filterBounds(zone)\n",
        "    .filterDate(str_year + \"-01-01\",str_year + \"-12-31\")\n",
        ")\n",
        "\n",
        "  l7lswi = l7collection.map(get_LSWI)\n",
        "  composite = l7lswi.select('LSWI').reduce(ee.Reducer.mean()).rename('LSWI').clip(zone)\n",
        "\n",
        "#SE ALMACENAN LAS BANDAS DE LAS IMÁGENES CON EL CÁLCULO DEL LSWI EN bands\n",
        "  band = composite.select(\"LSWI\")\n",
        "  bands.append(band) #band tiene 23 elementos, uno para cada año"
      ],
      "metadata": {
        "id": "4AQsnhl-xfya",
        "colab": {
          "base_uri": "https://localhost:8080/"
        },
        "outputId": "75dc740e-c3ca-48ef-9390-ac732d03292b"
      },
      "execution_count": null,
      "outputs": [
        {
          "output_type": "stream",
          "name": "stdout",
          "text": [
            "1999\n",
            "2000\n",
            "2001\n",
            "2002\n",
            "2003\n",
            "2004\n",
            "2005\n",
            "2006\n",
            "2007\n",
            "2008\n",
            "2009\n",
            "2010\n",
            "2011\n",
            "2012\n",
            "2013\n",
            "2014\n",
            "2015\n",
            "2016\n",
            "2017\n",
            "2018\n",
            "2019\n",
            "2020\n",
            "2021\n"
          ]
        },
        {
          "output_type": "stream",
          "name": "stderr",
          "text": [
            "/usr/local/lib/python3.10/dist-packages/ee/deprecation.py:204: DeprecationWarning: \n",
            "\n",
            "Attention required for LANDSAT/LE07/C01/T1_SR! You are using a deprecated asset.\n",
            "To ensure continued functionality, please update it by July 1, 2024.\n",
            "Learn more: https://developers.google.com/earth-engine/landsat_c1_to_c2\n",
            "\n",
            "  warnings.warn(warning, category=DeprecationWarning)\n"
          ]
        }
      ]
    },
    {
      "cell_type": "code",
      "source": [
        "vmin = band.reduceRegion(ee.Reducer.min(), zone).get(\"LSWI\").getInfo()\n",
        "print(vmin)"
      ],
      "metadata": {
        "id": "GtfiWs7R7Q7X",
        "colab": {
          "base_uri": "https://localhost:8080/"
        },
        "outputId": "00ff428d-d0bd-4dd3-dd47-b1ce7dab6a96"
      },
      "execution_count": null,
      "outputs": [
        {
          "output_type": "stream",
          "name": "stdout",
          "text": [
            "None\n"
          ]
        }
      ]
    },
    {
      "cell_type": "code",
      "source": [
        "vmax = band.reduceRegion(ee.Reducer.max(), zone).get(\"LSWI\").getInfo()\n",
        "print(vmax)"
      ],
      "metadata": {
        "id": "QVyi6RDO64bg",
        "colab": {
          "base_uri": "https://localhost:8080/"
        },
        "outputId": "126f2d06-a919-47f3-d714-224ea288469c"
      },
      "execution_count": null,
      "outputs": [
        {
          "output_type": "stream",
          "name": "stdout",
          "text": [
            "None\n"
          ]
        }
      ]
    },
    {
      "cell_type": "code",
      "source": [
        "#HACEMOS LOS MAPAS DE LSWI DE LA ZONA DEL BUFFER DEL HUMEDAL CON EL DESPLEGABLE POR AÑO\n",
        "m = geemap.Map() # Inicializamos un mapa vacío\n",
        "m.centerObject(zone, zoom=15)\n",
        "vis_params = {\"min\": vmin, \"max\": vmax, \"palette\":['#a6611a','#dfc27d','#f5f5f5','#80cdc1','#018571']} #Paleta: marrón, blanco y azul turquesa, principalmente\n",
        "m.addLayer(band,vis_params,\"LSWI\")\n",
        "\n",
        "for posicion, banda in enumerate(bands):\n",
        "  m.addLayer(banda,vis_params,\"LSWI_\"+str(1999 + posicion))\n",
        "m.addLayerControl() # Para escoger qué mapas ver con un desplegable para los distintos años\n",
        "\n",
        "m"
      ],
      "metadata": {
        "id": "UFV9Tkj9ydHP",
        "colab": {
          "base_uri": "https://localhost:8080/",
          "height": 1000
        },
        "outputId": "8bf1393e-f3d5-4bef-eb18-26a27f69aafb"
      },
      "execution_count": null,
      "outputs": [
        {
          "output_type": "execute_result",
          "data": {
            "text/plain": [
              "<eefolium.eefolium.Map at 0x780d5a2238b0>"
            ],
            "text/html": [
              "<div style=\"width:100%;\"><div style=\"position:relative;width:100%;height:0;padding-bottom:60%;\"><span style=\"color:#565656\">Make this Notebook Trusted to load map: File -> Trust Notebook</span><iframe srcdoc=\"&lt;!DOCTYPE html&gt;\n",
              "&lt;html&gt;\n",
              "&lt;head&gt;\n",
              "    \n",
              "    &lt;meta http-equiv=&quot;content-type&quot; content=&quot;text/html; charset=UTF-8&quot; /&gt;\n",
              "    \n",
              "        &lt;script&gt;\n",
              "            L_NO_TOUCH = false;\n",
              "            L_DISABLE_3D = false;\n",
              "        &lt;/script&gt;\n",
              "    \n",
              "    &lt;style&gt;html, body {width: 100%;height: 100%;margin: 0;padding: 0;}&lt;/style&gt;\n",
              "    &lt;style&gt;#map {position:absolute;top:0;bottom:0;right:0;left:0;}&lt;/style&gt;\n",
              "    &lt;script src=&quot;https://cdn.jsdelivr.net/npm/leaflet@1.9.3/dist/leaflet.js&quot;&gt;&lt;/script&gt;\n",
              "    &lt;script src=&quot;https://code.jquery.com/jquery-1.12.4.min.js&quot;&gt;&lt;/script&gt;\n",
              "    &lt;script src=&quot;https://cdn.jsdelivr.net/npm/bootstrap@5.2.2/dist/js/bootstrap.bundle.min.js&quot;&gt;&lt;/script&gt;\n",
              "    &lt;script src=&quot;https://cdnjs.cloudflare.com/ajax/libs/Leaflet.awesome-markers/2.0.2/leaflet.awesome-markers.js&quot;&gt;&lt;/script&gt;\n",
              "    &lt;link rel=&quot;stylesheet&quot; href=&quot;https://cdn.jsdelivr.net/npm/leaflet@1.9.3/dist/leaflet.css&quot;/&gt;\n",
              "    &lt;link rel=&quot;stylesheet&quot; href=&quot;https://cdn.jsdelivr.net/npm/bootstrap@5.2.2/dist/css/bootstrap.min.css&quot;/&gt;\n",
              "    &lt;link rel=&quot;stylesheet&quot; href=&quot;https://netdna.bootstrapcdn.com/bootstrap/3.0.0/css/bootstrap.min.css&quot;/&gt;\n",
              "    &lt;link rel=&quot;stylesheet&quot; href=&quot;https://cdn.jsdelivr.net/npm/@fortawesome/fontawesome-free@6.2.0/css/all.min.css&quot;/&gt;\n",
              "    &lt;link rel=&quot;stylesheet&quot; href=&quot;https://cdnjs.cloudflare.com/ajax/libs/Leaflet.awesome-markers/2.0.2/leaflet.awesome-markers.css&quot;/&gt;\n",
              "    &lt;link rel=&quot;stylesheet&quot; href=&quot;https://cdn.jsdelivr.net/gh/python-visualization/folium/folium/templates/leaflet.awesome.rotate.min.css&quot;/&gt;\n",
              "    \n",
              "            &lt;meta name=&quot;viewport&quot; content=&quot;width=device-width,\n",
              "                initial-scale=1.0, maximum-scale=1.0, user-scalable=no&quot; /&gt;\n",
              "            &lt;style&gt;\n",
              "                #map_30757c8d58776c00039d3ddf6573b58a {\n",
              "                    position: relative;\n",
              "                    width: 100.0%;\n",
              "                    height: 100.0%;\n",
              "                    left: 0.0%;\n",
              "                    top: 0.0%;\n",
              "                }\n",
              "                .leaflet-container { font-size: 1rem; }\n",
              "            &lt;/style&gt;\n",
              "        \n",
              "    &lt;script src=&quot;https://cdnjs.cloudflare.com/ajax/libs/leaflet.fullscreen/1.4.2/Control.FullScreen.min.js&quot;&gt;&lt;/script&gt;\n",
              "    &lt;link rel=&quot;stylesheet&quot; href=&quot;https://cdnjs.cloudflare.com/ajax/libs/leaflet.fullscreen/1.4.2/Control.FullScreen.min.css&quot;/&gt;\n",
              "&lt;/head&gt;\n",
              "&lt;body&gt;\n",
              "    \n",
              "    \n",
              "            &lt;div class=&quot;folium-map&quot; id=&quot;map_30757c8d58776c00039d3ddf6573b58a&quot; &gt;&lt;/div&gt;\n",
              "        \n",
              "&lt;/body&gt;\n",
              "&lt;script&gt;\n",
              "    \n",
              "    \n",
              "            var map_30757c8d58776c00039d3ddf6573b58a = L.map(\n",
              "                &quot;map_30757c8d58776c00039d3ddf6573b58a&quot;,\n",
              "                {\n",
              "                    center: [40.0, -100.0],\n",
              "                    crs: L.CRS.EPSG3857,\n",
              "                    zoom: 4,\n",
              "                    zoomControl: true,\n",
              "                    preferCanvas: false,\n",
              "                    useEe: true,\n",
              "                    eeInitialize: true,\n",
              "                    addGoogleMap: true,\n",
              "                    pluginLatlngpopup: true,\n",
              "                    pluginFullscreen: true,\n",
              "                    pluginDraw: false,\n",
              "                    DrawExport: true,\n",
              "                    pluginMinimap: false,\n",
              "                    pluginLayercontrol: false,\n",
              "                }\n",
              "            );\n",
              "\n",
              "            \n",
              "\n",
              "        \n",
              "    \n",
              "            var tile_layer_06f625f2c608e62eae87d4eff9d5c963 = L.tileLayer(\n",
              "                &quot;https://{s}.tile.openstreetmap.org/{z}/{x}/{y}.png&quot;,\n",
              "                {&quot;attribution&quot;: &quot;Data by \\u0026copy; \\u003ca target=\\&quot;_blank\\&quot; href=\\&quot;http://openstreetmap.org\\&quot;\\u003eOpenStreetMap\\u003c/a\\u003e, under \\u003ca target=\\&quot;_blank\\&quot; href=\\&quot;http://www.openstreetmap.org/copyright\\&quot;\\u003eODbL\\u003c/a\\u003e.&quot;, &quot;detectRetina&quot;: false, &quot;maxNativeZoom&quot;: 18, &quot;maxZoom&quot;: 18, &quot;minZoom&quot;: 0, &quot;noWrap&quot;: false, &quot;opacity&quot;: 1, &quot;subdomains&quot;: &quot;abc&quot;, &quot;tms&quot;: false}\n",
              "            ).addTo(map_30757c8d58776c00039d3ddf6573b58a);\n",
              "        \n",
              "    \n",
              "            var tile_layer_1bf46eff6c0c8ebb299d86219b188bfb = L.tileLayer(\n",
              "                &quot;https://mt1.google.com/vt/lyrs=m\\u0026x={x}\\u0026y={y}\\u0026z={z}&quot;,\n",
              "                {&quot;attribution&quot;: &quot;Google&quot;, &quot;detectRetina&quot;: false, &quot;maxNativeZoom&quot;: 18, &quot;maxZoom&quot;: 18, &quot;minZoom&quot;: 0, &quot;noWrap&quot;: false, &quot;opacity&quot;: 1, &quot;subdomains&quot;: &quot;abc&quot;, &quot;tms&quot;: false}\n",
              "            ).addTo(map_30757c8d58776c00039d3ddf6573b58a);\n",
              "        \n",
              "    \n",
              "                var lat_lng_popup_17cf48eb7d0b91c1505aa0c8f0b289fa = L.popup();\n",
              "                function latLngPop(e) {\n",
              "                    lat_lng_popup_17cf48eb7d0b91c1505aa0c8f0b289fa\n",
              "                        .setLatLng(e.latlng)\n",
              "                        .setContent(&quot;Latitude: &quot; + e.latlng.lat.toFixed(4) +\n",
              "                                    &quot;&lt;br&gt;Longitude: &quot; + e.latlng.lng.toFixed(4))\n",
              "                        .openOn(map_30757c8d58776c00039d3ddf6573b58a);\n",
              "                    }\n",
              "                map_30757c8d58776c00039d3ddf6573b58a.on(&#x27;click&#x27;, latLngPop);\n",
              "            \n",
              "    \n",
              "            L.control.fullscreen(\n",
              "                {&quot;forceSeparateButton&quot;: false, &quot;position&quot;: &quot;topleft&quot;, &quot;title&quot;: &quot;Full Screen&quot;, &quot;titleCancel&quot;: &quot;Exit Full Screen&quot;}\n",
              "            ).addTo(map_30757c8d58776c00039d3ddf6573b58a);\n",
              "        \n",
              "    \n",
              "            map_30757c8d58776c00039d3ddf6573b58a.fitBounds(\n",
              "                [[40, -100], [40, -100]],\n",
              "                {&quot;maxZoom&quot;: 4}\n",
              "            );\n",
              "        \n",
              "    \n",
              "            map_30757c8d58776c00039d3ddf6573b58a.fitBounds(\n",
              "                [[37.037241472993344, -3.1130964528386733], [37.037241472993344, -3.1130964528386733]],\n",
              "                {&quot;maxZoom&quot;: 15}\n",
              "            );\n",
              "        \n",
              "    \n",
              "            var tile_layer_1f4f3b881bb44c862856ee9a1499cb0f = L.tileLayer(\n",
              "                &quot;https://earthengine.googleapis.com/v1/projects/ee-albalinares20/maps/9323a8b9cc394f5f030e6023c1a5d16b-6261e3d28a3eb6f32a29e78d22d17996/tiles/{z}/{x}/{y}&quot;,\n",
              "                {&quot;attribution&quot;: &quot;Google Earth Engine&quot;, &quot;detectRetina&quot;: false, &quot;maxNativeZoom&quot;: 18, &quot;maxZoom&quot;: 18, &quot;minZoom&quot;: 0, &quot;noWrap&quot;: false, &quot;opacity&quot;: 1.0, &quot;subdomains&quot;: &quot;abc&quot;, &quot;tms&quot;: false}\n",
              "            ).addTo(map_30757c8d58776c00039d3ddf6573b58a);\n",
              "        \n",
              "    \n",
              "            var tile_layer_1978a4ef7437fb3b9fbab7ba496b4026 = L.tileLayer(\n",
              "                &quot;https://earthengine.googleapis.com/v1/projects/ee-albalinares20/maps/98eff3321cba21a6c996d38468f3a094-fa4cc722d535d2f20f92e2914e8cc9fd/tiles/{z}/{x}/{y}&quot;,\n",
              "                {&quot;attribution&quot;: &quot;Google Earth Engine&quot;, &quot;detectRetina&quot;: false, &quot;maxNativeZoom&quot;: 18, &quot;maxZoom&quot;: 18, &quot;minZoom&quot;: 0, &quot;noWrap&quot;: false, &quot;opacity&quot;: 1.0, &quot;subdomains&quot;: &quot;abc&quot;, &quot;tms&quot;: false}\n",
              "            ).addTo(map_30757c8d58776c00039d3ddf6573b58a);\n",
              "        \n",
              "    \n",
              "            var tile_layer_abef96f8a10b8b8872f611f5b721e388 = L.tileLayer(\n",
              "                &quot;https://earthengine.googleapis.com/v1/projects/ee-albalinares20/maps/869c53b7079d627dbe929443c698bb4c-80e21d5a6a254db51d3ef6af00b91a01/tiles/{z}/{x}/{y}&quot;,\n",
              "                {&quot;attribution&quot;: &quot;Google Earth Engine&quot;, &quot;detectRetina&quot;: false, &quot;maxNativeZoom&quot;: 18, &quot;maxZoom&quot;: 18, &quot;minZoom&quot;: 0, &quot;noWrap&quot;: false, &quot;opacity&quot;: 1.0, &quot;subdomains&quot;: &quot;abc&quot;, &quot;tms&quot;: false}\n",
              "            ).addTo(map_30757c8d58776c00039d3ddf6573b58a);\n",
              "        \n",
              "    \n",
              "            var tile_layer_6fbb3e888611a06e5812c40c06dddb36 = L.tileLayer(\n",
              "                &quot;https://earthengine.googleapis.com/v1/projects/ee-albalinares20/maps/5beb8b134ba7b5a7e244627f818b6eee-77983adf0aac7654f7efd3e31905e003/tiles/{z}/{x}/{y}&quot;,\n",
              "                {&quot;attribution&quot;: &quot;Google Earth Engine&quot;, &quot;detectRetina&quot;: false, &quot;maxNativeZoom&quot;: 18, &quot;maxZoom&quot;: 18, &quot;minZoom&quot;: 0, &quot;noWrap&quot;: false, &quot;opacity&quot;: 1.0, &quot;subdomains&quot;: &quot;abc&quot;, &quot;tms&quot;: false}\n",
              "            ).addTo(map_30757c8d58776c00039d3ddf6573b58a);\n",
              "        \n",
              "    \n",
              "            var tile_layer_8c1f6629b341f0ed5c6f56295b8c0a56 = L.tileLayer(\n",
              "                &quot;https://earthengine.googleapis.com/v1/projects/ee-albalinares20/maps/dfaf69e29965dea2ddd709bbd9fda33e-125e3f0a9fac7464c2d6c468640f907a/tiles/{z}/{x}/{y}&quot;,\n",
              "                {&quot;attribution&quot;: &quot;Google Earth Engine&quot;, &quot;detectRetina&quot;: false, &quot;maxNativeZoom&quot;: 18, &quot;maxZoom&quot;: 18, &quot;minZoom&quot;: 0, &quot;noWrap&quot;: false, &quot;opacity&quot;: 1.0, &quot;subdomains&quot;: &quot;abc&quot;, &quot;tms&quot;: false}\n",
              "            ).addTo(map_30757c8d58776c00039d3ddf6573b58a);\n",
              "        \n",
              "    \n",
              "            var tile_layer_94b7bf33de9eb3968321e81598051254 = L.tileLayer(\n",
              "                &quot;https://earthengine.googleapis.com/v1/projects/ee-albalinares20/maps/3a36db8b1332b0f55faf25191772776b-2f959347388cd46c76b5ccb7ce4f0f37/tiles/{z}/{x}/{y}&quot;,\n",
              "                {&quot;attribution&quot;: &quot;Google Earth Engine&quot;, &quot;detectRetina&quot;: false, &quot;maxNativeZoom&quot;: 18, &quot;maxZoom&quot;: 18, &quot;minZoom&quot;: 0, &quot;noWrap&quot;: false, &quot;opacity&quot;: 1.0, &quot;subdomains&quot;: &quot;abc&quot;, &quot;tms&quot;: false}\n",
              "            ).addTo(map_30757c8d58776c00039d3ddf6573b58a);\n",
              "        \n",
              "    \n",
              "            var tile_layer_af03b4f6aa30af8e3ec4a5bdfe49571f = L.tileLayer(\n",
              "                &quot;https://earthengine.googleapis.com/v1/projects/ee-albalinares20/maps/d59f5d2225ad1e5e4336dc95bd18b659-2ee810e05e93d4ffcb4b0d2a557e6ae7/tiles/{z}/{x}/{y}&quot;,\n",
              "                {&quot;attribution&quot;: &quot;Google Earth Engine&quot;, &quot;detectRetina&quot;: false, &quot;maxNativeZoom&quot;: 18, &quot;maxZoom&quot;: 18, &quot;minZoom&quot;: 0, &quot;noWrap&quot;: false, &quot;opacity&quot;: 1.0, &quot;subdomains&quot;: &quot;abc&quot;, &quot;tms&quot;: false}\n",
              "            ).addTo(map_30757c8d58776c00039d3ddf6573b58a);\n",
              "        \n",
              "    \n",
              "            var tile_layer_3da87975f35a72bae3bbd74968d400a0 = L.tileLayer(\n",
              "                &quot;https://earthengine.googleapis.com/v1/projects/ee-albalinares20/maps/e59413d7f71127395dd4f0f437714554-31d1374708337ca8310799bb076ee06d/tiles/{z}/{x}/{y}&quot;,\n",
              "                {&quot;attribution&quot;: &quot;Google Earth Engine&quot;, &quot;detectRetina&quot;: false, &quot;maxNativeZoom&quot;: 18, &quot;maxZoom&quot;: 18, &quot;minZoom&quot;: 0, &quot;noWrap&quot;: false, &quot;opacity&quot;: 1.0, &quot;subdomains&quot;: &quot;abc&quot;, &quot;tms&quot;: false}\n",
              "            ).addTo(map_30757c8d58776c00039d3ddf6573b58a);\n",
              "        \n",
              "    \n",
              "            var tile_layer_4651141ad8ebe08595cd0071820eb82c = L.tileLayer(\n",
              "                &quot;https://earthengine.googleapis.com/v1/projects/ee-albalinares20/maps/68d07ca8d4ebce1cf5b63580f5ee7bf9-0b84f649db2077bace4cb3b92ba31f0d/tiles/{z}/{x}/{y}&quot;,\n",
              "                {&quot;attribution&quot;: &quot;Google Earth Engine&quot;, &quot;detectRetina&quot;: false, &quot;maxNativeZoom&quot;: 18, &quot;maxZoom&quot;: 18, &quot;minZoom&quot;: 0, &quot;noWrap&quot;: false, &quot;opacity&quot;: 1.0, &quot;subdomains&quot;: &quot;abc&quot;, &quot;tms&quot;: false}\n",
              "            ).addTo(map_30757c8d58776c00039d3ddf6573b58a);\n",
              "        \n",
              "    \n",
              "            var tile_layer_b7310f0057153d072bc501686b4c56b7 = L.tileLayer(\n",
              "                &quot;https://earthengine.googleapis.com/v1/projects/ee-albalinares20/maps/761f2372b7fe1ece6eb846fe76dd0988-ea4b1f1d27fe981d0a75661c9e75f9c4/tiles/{z}/{x}/{y}&quot;,\n",
              "                {&quot;attribution&quot;: &quot;Google Earth Engine&quot;, &quot;detectRetina&quot;: false, &quot;maxNativeZoom&quot;: 18, &quot;maxZoom&quot;: 18, &quot;minZoom&quot;: 0, &quot;noWrap&quot;: false, &quot;opacity&quot;: 1.0, &quot;subdomains&quot;: &quot;abc&quot;, &quot;tms&quot;: false}\n",
              "            ).addTo(map_30757c8d58776c00039d3ddf6573b58a);\n",
              "        \n",
              "    \n",
              "            var tile_layer_e7720e71e47077b6d3257f5ed432058e = L.tileLayer(\n",
              "                &quot;https://earthengine.googleapis.com/v1/projects/ee-albalinares20/maps/75d1bee4abd7752dfd58909e58af7b4f-740e8efdbeae7b9a9611b850854e0139/tiles/{z}/{x}/{y}&quot;,\n",
              "                {&quot;attribution&quot;: &quot;Google Earth Engine&quot;, &quot;detectRetina&quot;: false, &quot;maxNativeZoom&quot;: 18, &quot;maxZoom&quot;: 18, &quot;minZoom&quot;: 0, &quot;noWrap&quot;: false, &quot;opacity&quot;: 1.0, &quot;subdomains&quot;: &quot;abc&quot;, &quot;tms&quot;: false}\n",
              "            ).addTo(map_30757c8d58776c00039d3ddf6573b58a);\n",
              "        \n",
              "    \n",
              "            var tile_layer_b56873a3e052d1e0c712a5d17f688925 = L.tileLayer(\n",
              "                &quot;https://earthengine.googleapis.com/v1/projects/ee-albalinares20/maps/4bab5af508be5ebbca9be358f24c5aba-f3a9f56cba059b13bbb4033e508bed31/tiles/{z}/{x}/{y}&quot;,\n",
              "                {&quot;attribution&quot;: &quot;Google Earth Engine&quot;, &quot;detectRetina&quot;: false, &quot;maxNativeZoom&quot;: 18, &quot;maxZoom&quot;: 18, &quot;minZoom&quot;: 0, &quot;noWrap&quot;: false, &quot;opacity&quot;: 1.0, &quot;subdomains&quot;: &quot;abc&quot;, &quot;tms&quot;: false}\n",
              "            ).addTo(map_30757c8d58776c00039d3ddf6573b58a);\n",
              "        \n",
              "    \n",
              "            var tile_layer_e3ff008abe56bfdc0ead4fc77629d77e = L.tileLayer(\n",
              "                &quot;https://earthengine.googleapis.com/v1/projects/ee-albalinares20/maps/40e033cbe95305d50d5c8346a7f4ceea-92c4a75fdd11ed8c4693cbe794b340ec/tiles/{z}/{x}/{y}&quot;,\n",
              "                {&quot;attribution&quot;: &quot;Google Earth Engine&quot;, &quot;detectRetina&quot;: false, &quot;maxNativeZoom&quot;: 18, &quot;maxZoom&quot;: 18, &quot;minZoom&quot;: 0, &quot;noWrap&quot;: false, &quot;opacity&quot;: 1.0, &quot;subdomains&quot;: &quot;abc&quot;, &quot;tms&quot;: false}\n",
              "            ).addTo(map_30757c8d58776c00039d3ddf6573b58a);\n",
              "        \n",
              "    \n",
              "            var tile_layer_0fc7fd4e24f2dbd5cf86385dd7b8e437 = L.tileLayer(\n",
              "                &quot;https://earthengine.googleapis.com/v1/projects/ee-albalinares20/maps/3157974d98653953328c1edcf0353ffd-dc99a5a0ee0edba00324cefe931c07cd/tiles/{z}/{x}/{y}&quot;,\n",
              "                {&quot;attribution&quot;: &quot;Google Earth Engine&quot;, &quot;detectRetina&quot;: false, &quot;maxNativeZoom&quot;: 18, &quot;maxZoom&quot;: 18, &quot;minZoom&quot;: 0, &quot;noWrap&quot;: false, &quot;opacity&quot;: 1.0, &quot;subdomains&quot;: &quot;abc&quot;, &quot;tms&quot;: false}\n",
              "            ).addTo(map_30757c8d58776c00039d3ddf6573b58a);\n",
              "        \n",
              "    \n",
              "            var tile_layer_e69ba11a9a3547d8f156d99378cd61d5 = L.tileLayer(\n",
              "                &quot;https://earthengine.googleapis.com/v1/projects/ee-albalinares20/maps/9535bc5a3be54ac98cd3f0c955fd4881-c4842a8ace70e5f241e01a69305e5c26/tiles/{z}/{x}/{y}&quot;,\n",
              "                {&quot;attribution&quot;: &quot;Google Earth Engine&quot;, &quot;detectRetina&quot;: false, &quot;maxNativeZoom&quot;: 18, &quot;maxZoom&quot;: 18, &quot;minZoom&quot;: 0, &quot;noWrap&quot;: false, &quot;opacity&quot;: 1.0, &quot;subdomains&quot;: &quot;abc&quot;, &quot;tms&quot;: false}\n",
              "            ).addTo(map_30757c8d58776c00039d3ddf6573b58a);\n",
              "        \n",
              "    \n",
              "            var tile_layer_5108961574082927ac92460d37f61142 = L.tileLayer(\n",
              "                &quot;https://earthengine.googleapis.com/v1/projects/ee-albalinares20/maps/40fc12045f02642b632e6b4ae855bc36-b199f92a6eec4a9a2127cdf0f1635738/tiles/{z}/{x}/{y}&quot;,\n",
              "                {&quot;attribution&quot;: &quot;Google Earth Engine&quot;, &quot;detectRetina&quot;: false, &quot;maxNativeZoom&quot;: 18, &quot;maxZoom&quot;: 18, &quot;minZoom&quot;: 0, &quot;noWrap&quot;: false, &quot;opacity&quot;: 1.0, &quot;subdomains&quot;: &quot;abc&quot;, &quot;tms&quot;: false}\n",
              "            ).addTo(map_30757c8d58776c00039d3ddf6573b58a);\n",
              "        \n",
              "    \n",
              "            var tile_layer_a4bdb9bea07476cdc395e316f22883b0 = L.tileLayer(\n",
              "                &quot;https://earthengine.googleapis.com/v1/projects/ee-albalinares20/maps/f0f54896d52ddb360fd12a9af0fd4b97-75215cd8fbe3958e729a8157b8e92a38/tiles/{z}/{x}/{y}&quot;,\n",
              "                {&quot;attribution&quot;: &quot;Google Earth Engine&quot;, &quot;detectRetina&quot;: false, &quot;maxNativeZoom&quot;: 18, &quot;maxZoom&quot;: 18, &quot;minZoom&quot;: 0, &quot;noWrap&quot;: false, &quot;opacity&quot;: 1.0, &quot;subdomains&quot;: &quot;abc&quot;, &quot;tms&quot;: false}\n",
              "            ).addTo(map_30757c8d58776c00039d3ddf6573b58a);\n",
              "        \n",
              "    \n",
              "            var tile_layer_4bf9a2eecc1a0d3989febae7987b15c3 = L.tileLayer(\n",
              "                &quot;https://earthengine.googleapis.com/v1/projects/ee-albalinares20/maps/45819a7f07def3c9107630672fa7a196-b5edd2edb04b4f1b28cc4bbdce26e5c4/tiles/{z}/{x}/{y}&quot;,\n",
              "                {&quot;attribution&quot;: &quot;Google Earth Engine&quot;, &quot;detectRetina&quot;: false, &quot;maxNativeZoom&quot;: 18, &quot;maxZoom&quot;: 18, &quot;minZoom&quot;: 0, &quot;noWrap&quot;: false, &quot;opacity&quot;: 1.0, &quot;subdomains&quot;: &quot;abc&quot;, &quot;tms&quot;: false}\n",
              "            ).addTo(map_30757c8d58776c00039d3ddf6573b58a);\n",
              "        \n",
              "    \n",
              "            var tile_layer_7cbb22ab78bbb2c9421d1a69212542eb = L.tileLayer(\n",
              "                &quot;https://earthengine.googleapis.com/v1/projects/ee-albalinares20/maps/7e186dba3564509e4b317cccd853d012-3bdae5b2ef9799a99c789c1875ec91c5/tiles/{z}/{x}/{y}&quot;,\n",
              "                {&quot;attribution&quot;: &quot;Google Earth Engine&quot;, &quot;detectRetina&quot;: false, &quot;maxNativeZoom&quot;: 18, &quot;maxZoom&quot;: 18, &quot;minZoom&quot;: 0, &quot;noWrap&quot;: false, &quot;opacity&quot;: 1.0, &quot;subdomains&quot;: &quot;abc&quot;, &quot;tms&quot;: false}\n",
              "            ).addTo(map_30757c8d58776c00039d3ddf6573b58a);\n",
              "        \n",
              "    \n",
              "            var tile_layer_b5c9cde7efb58ffb56dd071307189fd9 = L.tileLayer(\n",
              "                &quot;https://earthengine.googleapis.com/v1/projects/ee-albalinares20/maps/5daa7969a9b15f16dd2c5214578d59e4-deb08605ab8444301acc396ad7d90562/tiles/{z}/{x}/{y}&quot;,\n",
              "                {&quot;attribution&quot;: &quot;Google Earth Engine&quot;, &quot;detectRetina&quot;: false, &quot;maxNativeZoom&quot;: 18, &quot;maxZoom&quot;: 18, &quot;minZoom&quot;: 0, &quot;noWrap&quot;: false, &quot;opacity&quot;: 1.0, &quot;subdomains&quot;: &quot;abc&quot;, &quot;tms&quot;: false}\n",
              "            ).addTo(map_30757c8d58776c00039d3ddf6573b58a);\n",
              "        \n",
              "    \n",
              "            var tile_layer_cd6481a1479158b207d5bded3e7c594c = L.tileLayer(\n",
              "                &quot;https://earthengine.googleapis.com/v1/projects/ee-albalinares20/maps/5f084134b90d9bc9026e4433f9e9d8be-c3bc234fdee13636e772b7d73f3f7d7b/tiles/{z}/{x}/{y}&quot;,\n",
              "                {&quot;attribution&quot;: &quot;Google Earth Engine&quot;, &quot;detectRetina&quot;: false, &quot;maxNativeZoom&quot;: 18, &quot;maxZoom&quot;: 18, &quot;minZoom&quot;: 0, &quot;noWrap&quot;: false, &quot;opacity&quot;: 1.0, &quot;subdomains&quot;: &quot;abc&quot;, &quot;tms&quot;: false}\n",
              "            ).addTo(map_30757c8d58776c00039d3ddf6573b58a);\n",
              "        \n",
              "    \n",
              "            var tile_layer_67617a0178981762c3a5310c3c846643 = L.tileLayer(\n",
              "                &quot;https://earthengine.googleapis.com/v1/projects/ee-albalinares20/maps/db50cb654bbe544eae3ae0b6b2dacbef-7644fa360549b9fc837578b8fd9701b8/tiles/{z}/{x}/{y}&quot;,\n",
              "                {&quot;attribution&quot;: &quot;Google Earth Engine&quot;, &quot;detectRetina&quot;: false, &quot;maxNativeZoom&quot;: 18, &quot;maxZoom&quot;: 18, &quot;minZoom&quot;: 0, &quot;noWrap&quot;: false, &quot;opacity&quot;: 1.0, &quot;subdomains&quot;: &quot;abc&quot;, &quot;tms&quot;: false}\n",
              "            ).addTo(map_30757c8d58776c00039d3ddf6573b58a);\n",
              "        \n",
              "    \n",
              "            var tile_layer_82bb04914a07d0ec4b5a9db1ee459030 = L.tileLayer(\n",
              "                &quot;https://earthengine.googleapis.com/v1/projects/ee-albalinares20/maps/2ab75753d3a85350061a67cd1ee874ef-817081a12f83fc892355ba5c553815e7/tiles/{z}/{x}/{y}&quot;,\n",
              "                {&quot;attribution&quot;: &quot;Google Earth Engine&quot;, &quot;detectRetina&quot;: false, &quot;maxNativeZoom&quot;: 18, &quot;maxZoom&quot;: 18, &quot;minZoom&quot;: 0, &quot;noWrap&quot;: false, &quot;opacity&quot;: 1.0, &quot;subdomains&quot;: &quot;abc&quot;, &quot;tms&quot;: false}\n",
              "            ).addTo(map_30757c8d58776c00039d3ddf6573b58a);\n",
              "        \n",
              "    \n",
              "            var tile_layer_4f911bb7c9c0e77ebc70fc594e372e96 = L.tileLayer(\n",
              "                &quot;https://earthengine.googleapis.com/v1/projects/ee-albalinares20/maps/9323a8b9cc394f5f030e6023c1a5d16b-a1242b89ccb9c15c9eac0ff627bdc52d/tiles/{z}/{x}/{y}&quot;,\n",
              "                {&quot;attribution&quot;: &quot;Google Earth Engine&quot;, &quot;detectRetina&quot;: false, &quot;maxNativeZoom&quot;: 18, &quot;maxZoom&quot;: 18, &quot;minZoom&quot;: 0, &quot;noWrap&quot;: false, &quot;opacity&quot;: 1.0, &quot;subdomains&quot;: &quot;abc&quot;, &quot;tms&quot;: false}\n",
              "            ).addTo(map_30757c8d58776c00039d3ddf6573b58a);\n",
              "        \n",
              "    \n",
              "            var layer_control_51d98f567998de0941602673b354133e = {\n",
              "                base_layers : {\n",
              "                    &quot;openstreetmap&quot; : tile_layer_06f625f2c608e62eae87d4eff9d5c963,\n",
              "                },\n",
              "                overlays :  {\n",
              "                    &quot;Google Maps&quot; : tile_layer_1bf46eff6c0c8ebb299d86219b188bfb,\n",
              "                    &quot;LSWI&quot; : tile_layer_1f4f3b881bb44c862856ee9a1499cb0f,\n",
              "                    &quot;LSWI_1999&quot; : tile_layer_1978a4ef7437fb3b9fbab7ba496b4026,\n",
              "                    &quot;LSWI_2000&quot; : tile_layer_abef96f8a10b8b8872f611f5b721e388,\n",
              "                    &quot;LSWI_2001&quot; : tile_layer_6fbb3e888611a06e5812c40c06dddb36,\n",
              "                    &quot;LSWI_2002&quot; : tile_layer_8c1f6629b341f0ed5c6f56295b8c0a56,\n",
              "                    &quot;LSWI_2003&quot; : tile_layer_94b7bf33de9eb3968321e81598051254,\n",
              "                    &quot;LSWI_2004&quot; : tile_layer_af03b4f6aa30af8e3ec4a5bdfe49571f,\n",
              "                    &quot;LSWI_2005&quot; : tile_layer_3da87975f35a72bae3bbd74968d400a0,\n",
              "                    &quot;LSWI_2006&quot; : tile_layer_4651141ad8ebe08595cd0071820eb82c,\n",
              "                    &quot;LSWI_2007&quot; : tile_layer_b7310f0057153d072bc501686b4c56b7,\n",
              "                    &quot;LSWI_2008&quot; : tile_layer_e7720e71e47077b6d3257f5ed432058e,\n",
              "                    &quot;LSWI_2009&quot; : tile_layer_b56873a3e052d1e0c712a5d17f688925,\n",
              "                    &quot;LSWI_2010&quot; : tile_layer_e3ff008abe56bfdc0ead4fc77629d77e,\n",
              "                    &quot;LSWI_2011&quot; : tile_layer_0fc7fd4e24f2dbd5cf86385dd7b8e437,\n",
              "                    &quot;LSWI_2012&quot; : tile_layer_e69ba11a9a3547d8f156d99378cd61d5,\n",
              "                    &quot;LSWI_2013&quot; : tile_layer_5108961574082927ac92460d37f61142,\n",
              "                    &quot;LSWI_2014&quot; : tile_layer_a4bdb9bea07476cdc395e316f22883b0,\n",
              "                    &quot;LSWI_2015&quot; : tile_layer_4bf9a2eecc1a0d3989febae7987b15c3,\n",
              "                    &quot;LSWI_2016&quot; : tile_layer_7cbb22ab78bbb2c9421d1a69212542eb,\n",
              "                    &quot;LSWI_2017&quot; : tile_layer_b5c9cde7efb58ffb56dd071307189fd9,\n",
              "                    &quot;LSWI_2018&quot; : tile_layer_cd6481a1479158b207d5bded3e7c594c,\n",
              "                    &quot;LSWI_2019&quot; : tile_layer_67617a0178981762c3a5310c3c846643,\n",
              "                    &quot;LSWI_2020&quot; : tile_layer_82bb04914a07d0ec4b5a9db1ee459030,\n",
              "                    &quot;LSWI_2021&quot; : tile_layer_4f911bb7c9c0e77ebc70fc594e372e96,\n",
              "                },\n",
              "            };\n",
              "            L.control.layers(\n",
              "                layer_control_51d98f567998de0941602673b354133e.base_layers,\n",
              "                layer_control_51d98f567998de0941602673b354133e.overlays,\n",
              "                {&quot;autoZIndex&quot;: true, &quot;collapsed&quot;: true, &quot;position&quot;: &quot;topright&quot;}\n",
              "            ).addTo(map_30757c8d58776c00039d3ddf6573b58a);\n",
              "        \n",
              "&lt;/script&gt;\n",
              "&lt;/html&gt;\" style=\"position:absolute;width:100%;height:100%;left:0;top:0;border:none !important;\" allowfullscreen webkitallowfullscreen mozallowfullscreen></iframe></div></div>"
            ]
          },
          "metadata": {},
          "execution_count": 11
        }
      ]
    },
    {
      "cell_type": "markdown",
      "source": [
        "## Cálculo y exportación de la gráfica del LSWI medio anual en la zona"
      ],
      "metadata": {
        "id": "mvGTtm21jL1L"
      }
    },
    {
      "cell_type": "code",
      "source": [
        "#VALORES LSWI PARA LA ZONA DEL HUMEDAL EN CADA AÑO\n",
        "data_zone = []\n",
        "for band in bands:\n",
        "  data_zone.append(band.reduceRegion(ee.Reducer.mean(), zone, 30).get(\"LSWI\").getInfo())\n",
        "data_zone"
      ],
      "metadata": {
        "id": "u09a1tLI5t7L",
        "colab": {
          "base_uri": "https://localhost:8080/"
        },
        "outputId": "7eb64302-1070-4610-d820-84889c309a9f"
      },
      "execution_count": null,
      "outputs": [
        {
          "output_type": "execute_result",
          "data": {
            "text/plain": [
              "[0.16849043285851276,\n",
              " 0.16944522695599845,\n",
              " 0.22118030540122796,\n",
              " 0.18982205099817476,\n",
              " 0.32197391071176756,\n",
              " 0.20509326920798998,\n",
              " 0.30618978606779684,\n",
              " 0.15545987931761968,\n",
              " 0.12303849603045615,\n",
              " 0.18964962096553808,\n",
              " 0.2745427372945707,\n",
              " 0.16442523947401988,\n",
              " 0.24254725888569287,\n",
              " 0.18154778644015834,\n",
              " 0.18613336502433506,\n",
              " 0.18374288294315366,\n",
              " 0.18337734900360045,\n",
              " 0.18851280379349342,\n",
              " 0.2045070587305856,\n",
              " 0.24229002428555813,\n",
              " 0.17074562758132106,\n",
              " 0.18486824098403126,\n",
              " 0.20924674686038863]"
            ]
          },
          "metadata": {},
          "execution_count": 12
        }
      ]
    },
    {
      "cell_type": "code",
      "source": [
        "#GRAFICA PARA VER LOS DATOS\n",
        "import pandas as pd\n",
        "\n",
        "df = pd.DataFrame({\"LSWI\": data_zone}, index=range(1999,2022))\n",
        "df.index = df.index.rename(\"Year\") #para saber que cada fila corresponde a cada año\n",
        "\n",
        "graf = df.plot()\n",
        "graf.set_ylim(0, 0.3)\n"
      ],
      "metadata": {
        "id": "Z_x2FuQl57uu",
        "colab": {
          "base_uri": "https://localhost:8080/",
          "height": 472
        },
        "outputId": "e38253e3-e3c5-41e6-84c5-5adb170faafa"
      },
      "execution_count": null,
      "outputs": [
        {
          "output_type": "execute_result",
          "data": {
            "text/plain": [
              "(0.0, 0.3)"
            ]
          },
          "metadata": {},
          "execution_count": 13
        },
        {
          "output_type": "display_data",
          "data": {
            "text/plain": [
              "<Figure size 640x480 with 1 Axes>"
            ],
            "image/png": "[encoded data removed]"
          },
          "metadata": {}
        }
      ]
    },
    {
      "cell_type": "code",
      "source": [
        "\n",
        "# Mostrar el gráfico\n",
        "#plt.show()"
      ],
      "metadata": {
        "id": "EOXDoSP3mUsn"
      },
      "execution_count": null,
      "outputs": []
    },
    {
      "cell_type": "markdown",
      "source": [
        "## Mann-Kendall"
      ],
      "metadata": {
        "id": "TxJ7P2qc4blA"
      }
    },
    {
      "cell_type": "code",
      "source": [
        "#GENERAMOS UNA VARIABLE ÚNICA QUE CONTENGA LAS DIFERENTES CAPAS (bands)\n",
        "stack_collection = ee.ImageCollection(bands)\n",
        "lswis = stack_collection.toBands()"
      ],
      "metadata": {
        "id": "-YUDoV8NAKyG"
      },
      "execution_count": null,
      "outputs": []
    },
    {
      "cell_type": "code",
      "source": [
        "#CALCULAMOS TAU PARA CONOCER LA TENDENCIA DEL HUMEDAL\n",
        "lswi_trend = lswis.reduce(ee.Reducer.kendallsCorrelation())\n",
        "tau = lswi_trend.select(\"tau\")"
      ],
      "metadata": {
        "id": "OM_3iVccCRX0"
      },
      "execution_count": null,
      "outputs": []
    },
    {
      "cell_type": "markdown",
      "source": [
        "**¿Cómo se pone vmin y vmax al tau?**"
      ],
      "metadata": {
        "id": "zsyh06r6lmvc"
      }
    },
    {
      "cell_type": "code",
      "source": [
        "vmin = band.reduceRegion(ee.Reducer.min(), zone).get(\"Mann-Kendal\").getInfo()\n",
        "print(vmin)"
      ],
      "metadata": {
        "colab": {
          "base_uri": "https://localhost:8080/",
          "height": 425
        },
        "id": "TC3psVWnkrS3",
        "outputId": "6956e6e1-6d8b-4dcc-d239-edb000c49493"
      },
      "execution_count": null,
      "outputs": [
        {
          "output_type": "error",
          "ename": "EEException",
          "evalue": "Dictionary.get: Dictionary does not contain key: Mann-Kendal.",
          "traceback": [
            "\u001b[0;31m---------------------------------------------------------------------------\u001b[0m",
            "\u001b[0;31mHttpError\u001b[0m                                 Traceback (most recent call last)",
            "\u001b[0;32m/usr/local/lib/python3.10/dist-packages/ee/data.py\u001b[0m in \u001b[0;36m_execute_cloud_call\u001b[0;34m(call, num_retries)\u001b[0m\n\u001b[1;32m    401\u001b[0m   \u001b[0;32mtry\u001b[0m\u001b[0;34m:\u001b[0m\u001b[0;34m\u001b[0m\u001b[0;34m\u001b[0m\u001b[0m\n\u001b[0;32m--> 402\u001b[0;31m     \u001b[0;32mreturn\u001b[0m \u001b[0mcall\u001b[0m\u001b[0;34m.\u001b[0m\u001b[0mexecute\u001b[0m\u001b[0;34m(\u001b[0m\u001b[0mnum_retries\u001b[0m\u001b[0;34m=\u001b[0m\u001b[0mnum_retries\u001b[0m\u001b[0;34m)\u001b[0m\u001b[0;34m\u001b[0m\u001b[0;34m\u001b[0m\u001b[0m\n\u001b[0m\u001b[1;32m    403\u001b[0m   \u001b[0;32mexcept\u001b[0m \u001b[0mgoogleapiclient\u001b[0m\u001b[0;34m.\u001b[0m\u001b[0merrors\u001b[0m\u001b[0;34m.\u001b[0m\u001b[0mHttpError\u001b[0m \u001b[0;32mas\u001b[0m \u001b[0me\u001b[0m\u001b[0;34m:\u001b[0m\u001b[0;34m\u001b[0m\u001b[0;34m\u001b[0m\u001b[0m\n",
            "\u001b[0;32m/usr/local/lib/python3.10/dist-packages/googleapiclient/_helpers.py\u001b[0m in \u001b[0;36mpositional_wrapper\u001b[0;34m(*args, **kwargs)\u001b[0m\n\u001b[1;32m    129\u001b[0m                     \u001b[0mlogger\u001b[0m\u001b[0;34m.\u001b[0m\u001b[0mwarning\u001b[0m\u001b[0;34m(\u001b[0m\u001b[0mmessage\u001b[0m\u001b[0;34m)\u001b[0m\u001b[0;34m\u001b[0m\u001b[0;34m\u001b[0m\u001b[0m\n\u001b[0;32m--> 130\u001b[0;31m             \u001b[0;32mreturn\u001b[0m \u001b[0mwrapped\u001b[0m\u001b[0;34m(\u001b[0m\u001b[0;34m*\u001b[0m\u001b[0margs\u001b[0m\u001b[0;34m,\u001b[0m \u001b[0;34m**\u001b[0m\u001b[0mkwargs\u001b[0m\u001b[0;34m)\u001b[0m\u001b[0;34m\u001b[0m\u001b[0;34m\u001b[0m\u001b[0m\n\u001b[0m\u001b[1;32m    131\u001b[0m \u001b[0;34m\u001b[0m\u001b[0m\n",
            "\u001b[0;32m/usr/local/lib/python3.10/dist-packages/googleapiclient/http.py\u001b[0m in \u001b[0;36mexecute\u001b[0;34m(self, http, num_retries)\u001b[0m\n\u001b[1;32m    937\u001b[0m         \u001b[0;32mif\u001b[0m \u001b[0mresp\u001b[0m\u001b[0;34m.\u001b[0m\u001b[0mstatus\u001b[0m \u001b[0;34m>=\u001b[0m \u001b[0;36m300\u001b[0m\u001b[0;34m:\u001b[0m\u001b[0;34m\u001b[0m\u001b[0;34m\u001b[0m\u001b[0m\n\u001b[0;32m--> 938\u001b[0;31m             \u001b[0;32mraise\u001b[0m \u001b[0mHttpError\u001b[0m\u001b[0;34m(\u001b[0m\u001b[0mresp\u001b[0m\u001b[0;34m,\u001b[0m \u001b[0mcontent\u001b[0m\u001b[0;34m,\u001b[0m \u001b[0muri\u001b[0m\u001b[0;34m=\u001b[0m\u001b[0mself\u001b[0m\u001b[0;34m.\u001b[0m\u001b[0muri\u001b[0m\u001b[0;34m)\u001b[0m\u001b[0;34m\u001b[0m\u001b[0;34m\u001b[0m\u001b[0m\n\u001b[0m\u001b[1;32m    939\u001b[0m         \u001b[0;32mreturn\u001b[0m \u001b[0mself\u001b[0m\u001b[0;34m.\u001b[0m\u001b[0mpostproc\u001b[0m\u001b[0;34m(\u001b[0m\u001b[0mresp\u001b[0m\u001b[0;34m,\u001b[0m \u001b[0mcontent\u001b[0m\u001b[0;34m)\u001b[0m\u001b[0;34m\u001b[0m\u001b[0;34m\u001b[0m\u001b[0m\n",
            "\u001b[0;31mHttpError\u001b[0m: <HttpError 400 when requesting https://earthengine.googleapis.com/v1/projects/ee-albalinares20/value:compute?prettyPrint=false&alt=json returned \"Dictionary.get: Dictionary does not contain key: Mann-Kendal.\". Details: \"Dictionary.get: Dictionary does not contain key: Mann-Kendal.\">",
            "\nDuring handling of the above exception, another exception occurred:\n",
            "\u001b[0;31mEEException\u001b[0m                               Traceback (most recent call last)",
            "\u001b[0;32m<ipython-input-21-4e0fd09fcbb4>\u001b[0m in \u001b[0;36m<cell line: 1>\u001b[0;34m()\u001b[0m\n\u001b[0;32m----> 1\u001b[0;31m \u001b[0mvmin\u001b[0m \u001b[0;34m=\u001b[0m \u001b[0mband\u001b[0m\u001b[0;34m.\u001b[0m\u001b[0mreduceRegion\u001b[0m\u001b[0;34m(\u001b[0m\u001b[0mee\u001b[0m\u001b[0;34m.\u001b[0m\u001b[0mReducer\u001b[0m\u001b[0;34m.\u001b[0m\u001b[0mmin\u001b[0m\u001b[0;34m(\u001b[0m\u001b[0;34m)\u001b[0m\u001b[0;34m,\u001b[0m \u001b[0mzone\u001b[0m\u001b[0;34m)\u001b[0m\u001b[0;34m.\u001b[0m\u001b[0mget\u001b[0m\u001b[0;34m(\u001b[0m\u001b[0;34m\"Mann-Kendal\"\u001b[0m\u001b[0;34m)\u001b[0m\u001b[0;34m.\u001b[0m\u001b[0mgetInfo\u001b[0m\u001b[0;34m(\u001b[0m\u001b[0;34m)\u001b[0m\u001b[0;34m\u001b[0m\u001b[0;34m\u001b[0m\u001b[0m\n\u001b[0m\u001b[1;32m      2\u001b[0m \u001b[0mprint\u001b[0m\u001b[0;34m(\u001b[0m\u001b[0mvmin\u001b[0m\u001b[0;34m)\u001b[0m\u001b[0;34m\u001b[0m\u001b[0;34m\u001b[0m\u001b[0m\n",
            "\u001b[0;32m/usr/local/lib/python3.10/dist-packages/ee/computedobject.py\u001b[0m in \u001b[0;36mgetInfo\u001b[0;34m(self)\u001b[0m\n\u001b[1;32m    105\u001b[0m       \u001b[0mThe\u001b[0m \u001b[0mobject\u001b[0m \u001b[0mcan\u001b[0m \u001b[0mevaluate\u001b[0m \u001b[0mto\u001b[0m \u001b[0manything\u001b[0m\u001b[0;34m.\u001b[0m\u001b[0;34m\u001b[0m\u001b[0;34m\u001b[0m\u001b[0m\n\u001b[1;32m    106\u001b[0m     \"\"\"\n\u001b[0;32m--> 107\u001b[0;31m     \u001b[0;32mreturn\u001b[0m \u001b[0mdata\u001b[0m\u001b[0;34m.\u001b[0m\u001b[0mcomputeValue\u001b[0m\u001b[0;34m(\u001b[0m\u001b[0mself\u001b[0m\u001b[0;34m)\u001b[0m\u001b[0;34m\u001b[0m\u001b[0;34m\u001b[0m\u001b[0m\n\u001b[0m\u001b[1;32m    108\u001b[0m \u001b[0;34m\u001b[0m\u001b[0m\n\u001b[1;32m    109\u001b[0m   \u001b[0;32mdef\u001b[0m \u001b[0mencode\u001b[0m\u001b[0;34m(\u001b[0m\u001b[0mself\u001b[0m\u001b[0;34m,\u001b[0m \u001b[0mencoder\u001b[0m\u001b[0;34m:\u001b[0m \u001b[0mOptional\u001b[0m\u001b[0;34m[\u001b[0m\u001b[0mCallable\u001b[0m\u001b[0;34m[\u001b[0m\u001b[0;34m...\u001b[0m\u001b[0;34m,\u001b[0m \u001b[0mAny\u001b[0m\u001b[0;34m]\u001b[0m\u001b[0;34m]\u001b[0m\u001b[0;34m)\u001b[0m \u001b[0;34m->\u001b[0m \u001b[0mDict\u001b[0m\u001b[0;34m[\u001b[0m\u001b[0mstr\u001b[0m\u001b[0;34m,\u001b[0m \u001b[0mAny\u001b[0m\u001b[0;34m]\u001b[0m\u001b[0;34m:\u001b[0m\u001b[0;34m\u001b[0m\u001b[0;34m\u001b[0m\u001b[0m\n",
            "\u001b[0;32m/usr/local/lib/python3.10/dist-packages/ee/data.py\u001b[0m in \u001b[0;36mcomputeValue\u001b[0;34m(obj)\u001b[0m\n\u001b[1;32m   1105\u001b[0m   \u001b[0m_maybe_populate_workload_tag\u001b[0m\u001b[0;34m(\u001b[0m\u001b[0mbody\u001b[0m\u001b[0;34m)\u001b[0m\u001b[0;34m\u001b[0m\u001b[0;34m\u001b[0m\u001b[0m\n\u001b[1;32m   1106\u001b[0m \u001b[0;34m\u001b[0m\u001b[0m\n\u001b[0;32m-> 1107\u001b[0;31m   return _execute_cloud_call(\n\u001b[0m\u001b[1;32m   1108\u001b[0m       \u001b[0m_get_cloud_projects\u001b[0m\u001b[0;34m(\u001b[0m\u001b[0;34m)\u001b[0m\u001b[0;34m\u001b[0m\u001b[0;34m\u001b[0m\u001b[0m\n\u001b[1;32m   1109\u001b[0m       \u001b[0;34m.\u001b[0m\u001b[0mvalue\u001b[0m\u001b[0;34m(\u001b[0m\u001b[0;34m)\u001b[0m\u001b[0;34m\u001b[0m\u001b[0;34m\u001b[0m\u001b[0m\n",
            "\u001b[0;32m/usr/local/lib/python3.10/dist-packages/ee/data.py\u001b[0m in \u001b[0;36m_execute_cloud_call\u001b[0;34m(call, num_retries)\u001b[0m\n\u001b[1;32m    402\u001b[0m     \u001b[0;32mreturn\u001b[0m \u001b[0mcall\u001b[0m\u001b[0;34m.\u001b[0m\u001b[0mexecute\u001b[0m\u001b[0;34m(\u001b[0m\u001b[0mnum_retries\u001b[0m\u001b[0;34m=\u001b[0m\u001b[0mnum_retries\u001b[0m\u001b[0;34m)\u001b[0m\u001b[0;34m\u001b[0m\u001b[0;34m\u001b[0m\u001b[0m\n\u001b[1;32m    403\u001b[0m   \u001b[0;32mexcept\u001b[0m \u001b[0mgoogleapiclient\u001b[0m\u001b[0;34m.\u001b[0m\u001b[0merrors\u001b[0m\u001b[0;34m.\u001b[0m\u001b[0mHttpError\u001b[0m \u001b[0;32mas\u001b[0m \u001b[0me\u001b[0m\u001b[0;34m:\u001b[0m\u001b[0;34m\u001b[0m\u001b[0;34m\u001b[0m\u001b[0m\n\u001b[0;32m--> 404\u001b[0;31m     \u001b[0;32mraise\u001b[0m \u001b[0m_translate_cloud_exception\u001b[0m\u001b[0;34m(\u001b[0m\u001b[0me\u001b[0m\u001b[0;34m)\u001b[0m  \u001b[0;31m# pylint: disable=raise-missing-from\u001b[0m\u001b[0;34m\u001b[0m\u001b[0;34m\u001b[0m\u001b[0m\n\u001b[0m\u001b[1;32m    405\u001b[0m \u001b[0;34m\u001b[0m\u001b[0m\n\u001b[1;32m    406\u001b[0m \u001b[0;34m\u001b[0m\u001b[0m\n",
            "\u001b[0;31mEEException\u001b[0m: Dictionary.get: Dictionary does not contain key: Mann-Kendal."
          ]
        }
      ]
    },
    {
      "cell_type": "code",
      "source": [
        "vmax = band.reduceRegion(ee.Reducer.max(), zone).get(\"tau\").getInfo()\n",
        "print(vmax)"
      ],
      "metadata": {
        "id": "m-ddJX2SkrS4"
      },
      "execution_count": null,
      "outputs": []
    },
    {
      "cell_type": "code",
      "source": [
        "#GENERAMOS UN MAPA QUE MUESTRE EL TAU DE CADA PÍXEL DEL BUFFER DEL HUMEDAL\n",
        "# Los valores negativos indican una tendencia decreciente y los valores positivos indican una tendencia creciente\n",
        "\n",
        "m = geemap.Map()\n",
        "m.centerObject(zone, zoom=15)\n",
        "vis_params = {\"min\": -1, \"max\": 1, \"palette\": ['#d7191c','#fdae61','#ffffbf','#abdda4','#2b83ba']} # Paleta de colores: rojos = negativos, blanco = 0 y azules = positivos.\n",
        "m.addLayer(tau, vis_params, \"Mann-Kendal\")\n",
        "m"
      ],
      "metadata": {
        "id": "rPVj-pe1CiT-",
        "colab": {
          "base_uri": "https://localhost:8080/",
          "height": 832
        },
        "outputId": "b4f2e12e-0039-4c75-80bb-fa2a7ae2b21b"
      },
      "execution_count": null,
      "outputs": [
        {
          "output_type": "execute_result",
          "data": {
            "text/plain": [
              "<eefolium.eefolium.Map at 0x7fd2661bb250>"
            ],
            "text/html": [
              "<div style=\"width:100%;\"><div style=\"position:relative;width:100%;height:0;padding-bottom:60%;\"><span style=\"color:#565656\">Make this Notebook Trusted to load map: File -> Trust Notebook</span><iframe srcdoc=\"&lt;!DOCTYPE html&gt;\n",
              "&lt;html&gt;\n",
              "&lt;head&gt;\n",
              "    \n",
              "    &lt;meta http-equiv=&quot;content-type&quot; content=&quot;text/html; charset=UTF-8&quot; /&gt;\n",
              "    \n",
              "        &lt;script&gt;\n",
              "            L_NO_TOUCH = false;\n",
              "            L_DISABLE_3D = false;\n",
              "        &lt;/script&gt;\n",
              "    \n",
              "    &lt;style&gt;html, body {width: 100%;height: 100%;margin: 0;padding: 0;}&lt;/style&gt;\n",
              "    &lt;style&gt;#map {position:absolute;top:0;bottom:0;right:0;left:0;}&lt;/style&gt;\n",
              "    &lt;script src=&quot;https://cdn.jsdelivr.net/npm/leaflet@1.9.3/dist/leaflet.js&quot;&gt;&lt;/script&gt;\n",
              "    &lt;script src=&quot;https://code.jquery.com/jquery-1.12.4.min.js&quot;&gt;&lt;/script&gt;\n",
              "    &lt;script src=&quot;https://cdn.jsdelivr.net/npm/bootstrap@5.2.2/dist/js/bootstrap.bundle.min.js&quot;&gt;&lt;/script&gt;\n",
              "    &lt;script src=&quot;https://cdnjs.cloudflare.com/ajax/libs/Leaflet.awesome-markers/2.0.2/leaflet.awesome-markers.js&quot;&gt;&lt;/script&gt;\n",
              "    &lt;link rel=&quot;stylesheet&quot; href=&quot;https://cdn.jsdelivr.net/npm/leaflet@1.9.3/dist/leaflet.css&quot;/&gt;\n",
              "    &lt;link rel=&quot;stylesheet&quot; href=&quot;https://cdn.jsdelivr.net/npm/bootstrap@5.2.2/dist/css/bootstrap.min.css&quot;/&gt;\n",
              "    &lt;link rel=&quot;stylesheet&quot; href=&quot;https://netdna.bootstrapcdn.com/bootstrap/3.0.0/css/bootstrap.min.css&quot;/&gt;\n",
              "    &lt;link rel=&quot;stylesheet&quot; href=&quot;https://cdn.jsdelivr.net/npm/@fortawesome/fontawesome-free@6.2.0/css/all.min.css&quot;/&gt;\n",
              "    &lt;link rel=&quot;stylesheet&quot; href=&quot;https://cdnjs.cloudflare.com/ajax/libs/Leaflet.awesome-markers/2.0.2/leaflet.awesome-markers.css&quot;/&gt;\n",
              "    &lt;link rel=&quot;stylesheet&quot; href=&quot;https://cdn.jsdelivr.net/gh/python-visualization/folium/folium/templates/leaflet.awesome.rotate.min.css&quot;/&gt;\n",
              "    \n",
              "            &lt;meta name=&quot;viewport&quot; content=&quot;width=device-width,\n",
              "                initial-scale=1.0, maximum-scale=1.0, user-scalable=no&quot; /&gt;\n",
              "            &lt;style&gt;\n",
              "                #map_312473899572ace0a946ccdce6aeda40 {\n",
              "                    position: relative;\n",
              "                    width: 100.0%;\n",
              "                    height: 100.0%;\n",
              "                    left: 0.0%;\n",
              "                    top: 0.0%;\n",
              "                }\n",
              "                .leaflet-container { font-size: 1rem; }\n",
              "            &lt;/style&gt;\n",
              "        \n",
              "    &lt;script src=&quot;https://cdnjs.cloudflare.com/ajax/libs/leaflet.fullscreen/1.4.2/Control.FullScreen.min.js&quot;&gt;&lt;/script&gt;\n",
              "    &lt;link rel=&quot;stylesheet&quot; href=&quot;https://cdnjs.cloudflare.com/ajax/libs/leaflet.fullscreen/1.4.2/Control.FullScreen.min.css&quot;/&gt;\n",
              "&lt;/head&gt;\n",
              "&lt;body&gt;\n",
              "    \n",
              "    \n",
              "            &lt;div class=&quot;folium-map&quot; id=&quot;map_312473899572ace0a946ccdce6aeda40&quot; &gt;&lt;/div&gt;\n",
              "        \n",
              "&lt;/body&gt;\n",
              "&lt;script&gt;\n",
              "    \n",
              "    \n",
              "            var map_312473899572ace0a946ccdce6aeda40 = L.map(\n",
              "                &quot;map_312473899572ace0a946ccdce6aeda40&quot;,\n",
              "                {\n",
              "                    center: [40.0, -100.0],\n",
              "                    crs: L.CRS.EPSG3857,\n",
              "                    zoom: 4,\n",
              "                    zoomControl: true,\n",
              "                    preferCanvas: false,\n",
              "                    useEe: true,\n",
              "                    eeInitialize: true,\n",
              "                    addGoogleMap: true,\n",
              "                    pluginLatlngpopup: true,\n",
              "                    pluginFullscreen: true,\n",
              "                    pluginDraw: false,\n",
              "                    DrawExport: true,\n",
              "                    pluginMinimap: false,\n",
              "                    pluginLayercontrol: false,\n",
              "                }\n",
              "            );\n",
              "\n",
              "            \n",
              "\n",
              "        \n",
              "    \n",
              "            var tile_layer_ac8f98ce24f9802f42abfa1ab8e94896 = L.tileLayer(\n",
              "                &quot;https://{s}.tile.openstreetmap.org/{z}/{x}/{y}.png&quot;,\n",
              "                {&quot;attribution&quot;: &quot;Data by \\u0026copy; \\u003ca target=\\&quot;_blank\\&quot; href=\\&quot;http://openstreetmap.org\\&quot;\\u003eOpenStreetMap\\u003c/a\\u003e, under \\u003ca target=\\&quot;_blank\\&quot; href=\\&quot;http://www.openstreetmap.org/copyright\\&quot;\\u003eODbL\\u003c/a\\u003e.&quot;, &quot;detectRetina&quot;: false, &quot;maxNativeZoom&quot;: 18, &quot;maxZoom&quot;: 18, &quot;minZoom&quot;: 0, &quot;noWrap&quot;: false, &quot;opacity&quot;: 1, &quot;subdomains&quot;: &quot;abc&quot;, &quot;tms&quot;: false}\n",
              "            ).addTo(map_312473899572ace0a946ccdce6aeda40);\n",
              "        \n",
              "    \n",
              "            var tile_layer_e35742cedc8a4c9002654b6ac6789b25 = L.tileLayer(\n",
              "                &quot;https://mt1.google.com/vt/lyrs=m\\u0026x={x}\\u0026y={y}\\u0026z={z}&quot;,\n",
              "                {&quot;attribution&quot;: &quot;Google&quot;, &quot;detectRetina&quot;: false, &quot;maxNativeZoom&quot;: 18, &quot;maxZoom&quot;: 18, &quot;minZoom&quot;: 0, &quot;noWrap&quot;: false, &quot;opacity&quot;: 1, &quot;subdomains&quot;: &quot;abc&quot;, &quot;tms&quot;: false}\n",
              "            ).addTo(map_312473899572ace0a946ccdce6aeda40);\n",
              "        \n",
              "    \n",
              "                var lat_lng_popup_b6583d85aa4fd4de99cd0f85831493e0 = L.popup();\n",
              "                function latLngPop(e) {\n",
              "                    lat_lng_popup_b6583d85aa4fd4de99cd0f85831493e0\n",
              "                        .setLatLng(e.latlng)\n",
              "                        .setContent(&quot;Latitude: &quot; + e.latlng.lat.toFixed(4) +\n",
              "                                    &quot;&lt;br&gt;Longitude: &quot; + e.latlng.lng.toFixed(4))\n",
              "                        .openOn(map_312473899572ace0a946ccdce6aeda40);\n",
              "                    }\n",
              "                map_312473899572ace0a946ccdce6aeda40.on(&#x27;click&#x27;, latLngPop);\n",
              "            \n",
              "    \n",
              "            L.control.fullscreen(\n",
              "                {&quot;forceSeparateButton&quot;: false, &quot;position&quot;: &quot;topleft&quot;, &quot;title&quot;: &quot;Full Screen&quot;, &quot;titleCancel&quot;: &quot;Exit Full Screen&quot;}\n",
              "            ).addTo(map_312473899572ace0a946ccdce6aeda40);\n",
              "        \n",
              "    \n",
              "            map_312473899572ace0a946ccdce6aeda40.fitBounds(\n",
              "                [[40, -100], [40, -100]],\n",
              "                {&quot;maxZoom&quot;: 4}\n",
              "            );\n",
              "        \n",
              "    \n",
              "            map_312473899572ace0a946ccdce6aeda40.fitBounds(\n",
              "                [[37.22165785819989, -1.8172394622998453], [37.22165785819989, -1.8172394622998453]],\n",
              "                {&quot;maxZoom&quot;: 15}\n",
              "            );\n",
              "        \n",
              "    \n",
              "            var tile_layer_95f79b285db90b9f4c8fa87171a4af49 = L.tileLayer(\n",
              "                &quot;https://earthengine.googleapis.com/v1/projects/ee-albalinares20/maps/1157531dd5407f57933c58dfce4ae250-90089dfdab3e0fad736fa1068dbf0e96/tiles/{z}/{x}/{y}&quot;,\n",
              "                {&quot;attribution&quot;: &quot;Google Earth Engine&quot;, &quot;detectRetina&quot;: false, &quot;maxNativeZoom&quot;: 18, &quot;maxZoom&quot;: 18, &quot;minZoom&quot;: 0, &quot;noWrap&quot;: false, &quot;opacity&quot;: 1.0, &quot;subdomains&quot;: &quot;abc&quot;, &quot;tms&quot;: false}\n",
              "            ).addTo(map_312473899572ace0a946ccdce6aeda40);\n",
              "        \n",
              "&lt;/script&gt;\n",
              "&lt;/html&gt;\" style=\"position:absolute;width:100%;height:100%;left:0;top:0;border:none !important;\" allowfullscreen webkitallowfullscreen mozallowfullscreen></iframe></div></div>"
            ]
          },
          "metadata": {},
          "execution_count": 22
        }
      ]
    },
    {
      "cell_type": "markdown",
      "source": [
        "##Exportar:"
      ],
      "metadata": {
        "id": "N6pGfufcj9F2"
      }
    },
    {
      "cell_type": "code",
      "source": [
        "#EXPORTAMOS EN TIFF\n",
        "for i, band in enumerate(bands):\n",
        "  geemap.ee_export_image_to_drive(\n",
        "      band, \"zone1_\"+\"lswi_\"+str(1999+i), folder=\"GEE_ECOINF\", region=zone.geometry(),scale=30\n",
        "  ) # Nos da 23 mapas raster, uno para cada año\n",
        "  # .geometry() y no se pone solamente zone, porque region= te pide una propiedad de geometría de un objeto"
      ],
      "metadata": {
        "id": "J8SPpSNDlpBY",
        "colab": {
          "base_uri": "https://localhost:8080/"
        },
        "outputId": "906e2702-1c18-4581-c6ef-32cc363e8b92"
      },
      "execution_count": null,
      "outputs": [
        {
          "output_type": "stream",
          "name": "stdout",
          "text": [
            "Exporting zone1_lswi_1999 ...\n",
            "Exporting zone1_lswi_2000 ...\n",
            "Exporting zone1_lswi_2001 ...\n",
            "Exporting zone1_lswi_2002 ...\n",
            "Exporting zone1_lswi_2003 ...\n",
            "Exporting zone1_lswi_2004 ...\n",
            "Exporting zone1_lswi_2005 ...\n",
            "Exporting zone1_lswi_2006 ...\n",
            "Exporting zone1_lswi_2007 ...\n",
            "Exporting zone1_lswi_2008 ...\n",
            "Exporting zone1_lswi_2009 ...\n",
            "Exporting zone1_lswi_2010 ...\n",
            "Exporting zone1_lswi_2011 ...\n",
            "Exporting zone1_lswi_2012 ...\n",
            "Exporting zone1_lswi_2013 ...\n",
            "Exporting zone1_lswi_2014 ...\n",
            "Exporting zone1_lswi_2015 ...\n",
            "Exporting zone1_lswi_2016 ...\n",
            "Exporting zone1_lswi_2017 ...\n",
            "Exporting zone1_lswi_2018 ...\n",
            "Exporting zone1_lswi_2019 ...\n",
            "Exporting zone1_lswi_2020 ...\n",
            "Exporting zone1_lswi_2021 ...\n"
          ]
        }
      ]
    },
    {
      "cell_type": "code",
      "source": [
        "#CONECTAR GOOGLE COLAB CON DRIVE\n",
        "from google.colab import drive\n",
        "drive.mount('/content/drive')"
      ],
      "metadata": {
        "id": "fVY7m2dn5-yo"
      },
      "execution_count": null,
      "outputs": []
    },
    {
      "cell_type": "code",
      "source": [
        "#EXPORTAR DATOS ANUALES DE LSWI\n",
        "df.to_csv('/content/drive/My Drive/GEE_ECOINF/lswi_zone.csv')"
      ],
      "metadata": {
        "id": "6ydEuyhfj8wj"
      },
      "execution_count": null,
      "outputs": []
    },
    {
      "cell_type": "code",
      "source": [
        "#EXPORTAMOS A DRIVE EL MAPA CON LOS VALORES DE TAU\n",
        "geemap.ee_export_image_to_drive(\n",
        "    tau, \"zone1_\"+\"tau\", folder=\"GEE_ECOINF\",region=zone.geometry(), scale=30\n",
        ")"
      ],
      "metadata": {
        "id": "rTqd-D8oDRMx"
      },
      "execution_count": null,
      "outputs": []
    }
  ]
}